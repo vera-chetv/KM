{
 "cells": [
  {
   "cell_type": "markdown",
   "id": "62dd2685",
   "metadata": {},
   "source": [
    "# Лабораторная работа  7. Построение бинарного дерева поиска. Подсчет количества элементов в дереве"
   ]
  },
  {
   "cell_type": "markdown",
   "id": "8a45abc7",
   "metadata": {},
   "source": [
    "Четверикова Вера Борисовна, 27.04.2025"
   ]
  },
  {
   "cell_type": "markdown",
   "id": "88dd1602",
   "metadata": {},
   "source": [
    "## Задание 7.1. Определение классов"
   ]
  },
  {
   "cell_type": "markdown",
   "id": "aaadf45b",
   "metadata": {},
   "source": [
    "<span style=\"color:red;\">Напишите</span> базовое определение классов `BinaryTree`, `BinaryNode`, `EmptyNode`\n",
    "на основе лекционных материалов."
   ]
  },
  {
   "cell_type": "markdown",
   "id": "fcbed598",
   "metadata": {},
   "source": [
    "<span style=\"color:red;\">Напишите</span> комментарии для каждой строки кода в определении классов\n",
    "`BinaryTree`, `BinaryNode`, `EmptyNode`."
   ]
  },
  {
   "cell_type": "code",
   "execution_count": 13,
   "id": "10725e65",
   "metadata": {},
   "outputs": [],
   "source": [
    "class BinaryTree:\n",
    "    \"\"\"Бинарное дерево, управляющее корневым узлом\"\"\"\n",
    "    def __init__(self):\n",
    "        self.root = EmptyNode()  # пустое дерево\n",
    "        \n",
    "    def __repr__(self):\n",
    "        \"\"\"Строковое представление дерева\"\"\"\n",
    "        return repr(self.root)\n",
    "        \n",
    "    def insert(self, value):\n",
    "        \"\"\"Вставка значения в дерево\"\"\"\n",
    "        self.root = self.root.insert(value)  # делегируем вставку узлу\n",
    "\n",
    "    def build_from_list(self, data):\n",
    "        \"\"\"Построение дерева из списка значений\"\"\"\n",
    "        for value in data:\n",
    "            self.insert(value)\n",
    "        return self\n",
    "\n",
    "class BinaryNode:\n",
    "    \"\"\"Узел дерева\"\"\"\n",
    "    def __init__(self, left, value, right):\n",
    "        self.left = left    # левый узел (BinaryNode или EmptyNode)\n",
    "        self.value = value  # значение узла\n",
    "        self.right = right  # правый узел (BinaryNode или EmptyNode)\n",
    "        \n",
    "    def __repr__(self):\n",
    "        \"\"\"Вывод узла в виде (левый, значение, правый)\"\"\"\n",
    "        return f'({self.left}, {self.value}, {self.right})'\n",
    "\n",
    "\n",
    "class EmptyNode:\n",
    "    \"\"\"Пустой узел\"\"\"\n",
    "    def __repr__(self):\n",
    "        \"\"\"Вывод пустого узла\"\"\"\n",
    "        return '*'\n",
    "    \n",
    "    def insert(self, value):\n",
    "        \"\"\"Создаёт новый узел при вставке значения\"\"\"\n",
    "        return BinaryNode(self, value, self)"
   ]
  },
  {
   "cell_type": "markdown",
   "id": "4c74249a",
   "metadata": {},
   "source": [
    "## Задание 7.2. Метод вставки элемента в бинарное дерево поиска"
   ]
  },
  {
   "cell_type": "markdown",
   "id": "a6f6fc42",
   "metadata": {},
   "source": [
    "<span style=\"color:red;\">Переопределите</span> класс `BinaryNode` за счет определения метода вставки\n",
    "`insert(self, value)`. Рекомендации по выполнению представлены в лекции к\n",
    "теме Бинарное дерево поиска. Реализация на основе ООП."
   ]
  },
  {
   "cell_type": "code",
   "execution_count": 14,
   "id": "c62356bf",
   "metadata": {},
   "outputs": [],
   "source": [
    "class BinaryNode:\n",
    "    \"\"\"Узел бинарного дерева поиска (BST)\"\"\"\n",
    "    def __init__(self, left, value, right):\n",
    "        self.left = left    # левый потомок (BinaryNode или EmptyNode)\n",
    "        self.value = value  # значение узла\n",
    "        self.right = right  # правый потомок (BinaryNode или EmptyNode)\n",
    "        \n",
    "    def __repr__(self):\n",
    "        return f'({self.left}, {self.value}, {self.right})'\n",
    "    \n",
    "    def insert(self, value):\n",
    "        \"\"\"Рекурсивная вставка значения согласно правилам BST\"\"\"\n",
    "        if value < self.value:\n",
    "            self.left = self.left.insert(value)  # влево, если значение меньше\n",
    "        else:\n",
    "            self.right = self.right.insert(value) # вправо, если >=\n",
    "        return self"
   ]
  },
  {
   "cell_type": "markdown",
   "id": "d1031b0c",
   "metadata": {},
   "source": [
    "<span style=\"color:red;\">Приведите три примера</span> построения бинарного дерева поиска на\n",
    "основе итерируемых объектов различных типов (например, `str`, `range`, `list`)."
   ]
  },
  {
   "cell_type": "markdown",
   "id": "b1865b32",
   "metadata": {},
   "source": [
    "Пример 1: Числа (тип `int`)"
   ]
  },
  {
   "cell_type": "code",
   "execution_count": 15,
   "id": "a06607b0",
   "metadata": {},
   "outputs": [
    {
     "name": "stdout",
     "output_type": "stream",
     "text": [
      "(((*, 2, *), 3, (*, 4, *)), 5, (*, 7, *))\n"
     ]
    }
   ],
   "source": [
    "nums = [5, 3, 7, 2, 4]\n",
    "tree = BinaryTree()\n",
    "for num in nums:\n",
    "    tree.insert(num)\n",
    "\n",
    "print(tree)"
   ]
  },
  {
   "cell_type": "markdown",
   "id": "0c9f5b3e",
   "metadata": {},
   "source": [
    "Пример 2: Объекты `range`"
   ]
  },
  {
   "cell_type": "code",
   "execution_count": 16,
   "id": "f63be063",
   "metadata": {},
   "outputs": [
    {
     "name": "stdout",
     "output_type": "stream",
     "text": [
      "(*, 1, (*, 2, (*, 3, (*, 4, (*, 5, *)))))\n"
     ]
    }
   ],
   "source": [
    "tree = BinaryTree()\n",
    "for i in range(1, 6):\n",
    "    tree.insert(i)\n",
    "\n",
    "print(tree)"
   ]
  },
  {
   "cell_type": "markdown",
   "id": "dd4226f8",
   "metadata": {},
   "source": [
    "Пример 3: Строки (тип `str`)"
   ]
  },
  {
   "cell_type": "code",
   "execution_count": 17,
   "id": "33e41f6c",
   "metadata": {},
   "outputs": [
    {
     "name": "stdout",
     "output_type": "stream",
     "text": [
      "((*, a, (*, a, (*, a, *))), b, (*, n, (*, n, *)))\n"
     ]
    }
   ],
   "source": [
    "tree = BinaryTree()\n",
    "for char in \"banana\":\n",
    "    tree.insert(char)\n",
    "\n",
    "print(tree)"
   ]
  },
  {
   "cell_type": "markdown",
   "id": "dd492d30",
   "metadata": {},
   "source": [
    "<span style=\"color:red;\">Протестируйте</span> корректность построения бинарного дерева поиска на основе\n",
    "вставки в дерево элементов некоторого итерируемого объекта. При этом важно,\n",
    "чтобы для элементов итерируемого объекта были определены операции\n",
    "сравнения. "
   ]
  },
  {
   "cell_type": "markdown",
   "id": "f6489323",
   "metadata": {},
   "source": [
    "Тест 1: Вставка дубликатов"
   ]
  },
  {
   "cell_type": "code",
   "execution_count": 18,
   "id": "5ee2f562",
   "metadata": {},
   "outputs": [
    {
     "name": "stdout",
     "output_type": "stream",
     "text": [
      "(*, 5, (*, 5, *))\n"
     ]
    }
   ],
   "source": [
    "tree = BinaryTree()\n",
    "tree.insert(5)\n",
    "tree.insert(5)\n",
    "print(tree) "
   ]
  },
  {
   "cell_type": "markdown",
   "id": "d6612cd5",
   "metadata": {},
   "source": [
    "Тест 2: Сравнение строк"
   ]
  },
  {
   "cell_type": "code",
   "execution_count": 19,
   "id": "991d5a99",
   "metadata": {},
   "outputs": [
    {
     "name": "stdout",
     "output_type": "stream",
     "text": [
      "(*, apple, (*, banana, *))\n"
     ]
    }
   ],
   "source": [
    "tree = BinaryTree()\n",
    "tree.insert(\"apple\")\n",
    "tree.insert(\"banana\")\n",
    "print(tree)"
   ]
  },
  {
   "cell_type": "markdown",
   "id": "3eb40cc8",
   "metadata": {},
   "source": [
    "## Задание 7.3. Построение бинарного дерева поиска"
   ]
  },
  {
   "cell_type": "markdown",
   "id": "f3a07b43",
   "metadata": {},
   "source": [
    "<span style=\"color:red;\">Прочитайте</span> числовые данные, записанные в файлы, и <span style=\"color:red;\">постройте </span> на основании\n",
    "этих данных бинарные деревья поиска.\n",
    "\n",
    "<span style=\"color:red;\">Рассмотрите</span> четыре варианта хранения данных в файлах:\n",
    "1. числовые данные хранятся в текстовом файле и записаны в столбец;\n",
    "2. числовые данные хранятся в текстовом файле, записаны в строки, разделены\n",
    "пробелами, в каждой строке расположено одинаковое количество числовых\n",
    "значений;\n",
    "3. числовые данные хранятся в текстовом файле, записаны в строки, разделены\n",
    "пробелами, в каждой строке расположено различное количество числовых\n",
    "значений;\n",
    "4. числовые данные хранятся в файле формата `json`. \n",
    "\n",
    "Рекомендации по выполнению:\n",
    "- cтроковый метод `split` разбирает строку на список подстрок по разделителю;\n",
    "- строковые объекты нужно преобразовывать в числовые объекты перед их\n",
    "записью в бинарное дерево поиска;\n",
    "- функция `loadtxt` из расширения numpy читает числовые даннные из\n",
    "текстового файла без предварительного создания файлового объекта; в каждой\n",
    "строке файла должно быть расположено одинаковое количество числовых\n",
    "значений;\n",
    "- для работы с файлами в формате json используйте, например, функции\n",
    "`load` и `values` из модуля `json`. Для используемых функций модуля <span style=\"color:red;\">сформулируйте спецификации</span>."
   ]
  },
  {
   "cell_type": "code",
   "execution_count": 20,
   "id": "b518735b",
   "metadata": {},
   "outputs": [],
   "source": [
    "import json\n",
    "import numpy as np\n",
    "\n",
    "def read_column_file(filename):\n",
    "    \"\"\"Чтение данных из файла с числами в столбец\"\"\"\n",
    "    data = []\n",
    "    try:\n",
    "        with open(filename, 'r') as file:\n",
    "            for line in file:\n",
    "                stripped = line.strip()\n",
    "                if stripped:\n",
    "                    try:\n",
    "                        data.append(float(stripped))\n",
    "                    except ValueError:\n",
    "                        continue\n",
    "    except FileNotFoundError:\n",
    "        print(f\"Файл {filename} не найден.\")\n",
    "    return data\n",
    "\n",
    "def read_grid_file(filename):\n",
    "    \"\"\"Чтение данных из файла с сеткой чисел (одинаковое количество в строках)\"\"\"\n",
    "    try:\n",
    "        return np.loadtxt(filename).flatten().tolist()\n",
    "    except Exception as e:\n",
    "        print(f\"Ошибка: {e}\")\n",
    "        return []\n",
    "\n",
    "def read_arbitrary_file(filename):\n",
    "    \"\"\"Чтение данных из файла с произвольными строками\"\"\"\n",
    "    data = []\n",
    "    try:\n",
    "        with open(filename, 'r') as file:\n",
    "            for line in file:\n",
    "                try:\n",
    "                    nums = list(map(float, line.strip().split()))\n",
    "                    data.extend(nums)\n",
    "                except ValueError:\n",
    "                    continue\n",
    "    except FileNotFoundError:\n",
    "        print(f\"Файл {filename} не найден.\")\n",
    "    return data\n",
    "\n",
    "def read_json_file(filename):\n",
    "    \"\"\"Чтение данных из JSON-файла\"\"\"\n",
    "    try:\n",
    "        with open(filename, 'r') as file:\n",
    "            data = json.load(file)\n",
    "        flattened = []\n",
    "        def flatten(lst):\n",
    "            for item in lst:\n",
    "                if isinstance(item, list):\n",
    "                    flatten(item)\n",
    "                else:\n",
    "                    flattened.append(float(item))\n",
    "        flatten(data)\n",
    "        return flattened\n",
    "    except Exception as e:\n",
    "        print(f\"Ошибка: {e}\")\n",
    "        return []"
   ]
  },
  {
   "cell_type": "markdown",
   "id": "7ee18ae1",
   "metadata": {},
   "source": [
    "Пример 1. Файл `column.txt` (Столбец чисел)"
   ]
  },
  {
   "cell_type": "code",
   "execution_count": 23,
   "id": "0e4090c4",
   "metadata": {},
   "outputs": [
    {
     "name": "stdout",
     "output_type": "stream",
     "text": [
      "((((*, 1.0, *), 2.0, *), 3.0, (*, 3.0, *)), 4.0, ((*, 4.0, (((*, 5.0, *), 7.0, *), 8.0, *)), 9.0, *))\n"
     ]
    }
   ],
   "source": [
    "tree = BinaryTree()\n",
    "data = read_column_file(\"column.txt\")\n",
    "tree.build_from_list(data)\n",
    "print(tree)"
   ]
  },
  {
   "cell_type": "markdown",
   "id": "5918eeb6",
   "metadata": {},
   "source": [
    "Пример 2. Файл `grid.txt` (Сетка чисел)"
   ]
  },
  {
   "cell_type": "code",
   "execution_count": 24,
   "id": "326cbf13",
   "metadata": {},
   "outputs": [
    {
     "name": "stdout",
     "output_type": "stream",
     "text": [
      "(*, 10.0, (*, 20.0, (*, 30.0, (*, 40.0, (*, 50.0, (*, 60.0, (*, 70.0, (*, 80.0, (*, 90.0, *)))))))))\n"
     ]
    }
   ],
   "source": [
    "tree = BinaryTree()\n",
    "data = read_grid_file(\"grid.txt\") \n",
    "tree.build_from_list(data)\n",
    "print(tree)"
   ]
  },
  {
   "cell_type": "markdown",
   "id": "c9952bbc",
   "metadata": {},
   "source": [
    "Пример 3. JSON-файл `data.json`"
   ]
  },
  {
   "cell_type": "code",
   "execution_count": 25,
   "id": "fb67aa0d",
   "metadata": {},
   "outputs": [
    {
     "name": "stdout",
     "output_type": "stream",
     "text": [
      "(*, 1.0, (*, 2.0, (*, 3.0, (*, 4.0, (*, 5.0, (*, 6.0, *))))))\n"
     ]
    }
   ],
   "source": [
    "tree = BinaryTree()\n",
    "data = read_json_file(\"data.json\")\n",
    "tree.build_from_list(data)\n",
    "print(tree)"
   ]
  },
  {
   "cell_type": "markdown",
   "id": "7db2c88d",
   "metadata": {},
   "source": [
    "Пример 4. Файл с произвольными строками `arbitrary.txt` (Произвольные строки)"
   ]
  },
  {
   "cell_type": "code",
   "execution_count": 28,
   "id": "d86c93c5",
   "metadata": {},
   "outputs": [
    {
     "name": "stdout",
     "output_type": "stream",
     "text": [
      "(*, 1.0, (*, 2.5, (*, 3.0, (*, 4.0, (*, 5.0, ((*, 7.0, *), 8.0, *))))))\n"
     ]
    }
   ],
   "source": [
    "tree = BinaryTree()\n",
    "data = read_arbitrary_file(\"arbitrary.txt\")  \n",
    "tree.build_from_list(data)\n",
    "print(tree)"
   ]
  },
  {
   "cell_type": "markdown",
   "id": "40a9460a",
   "metadata": {},
   "source": [
    "*Спецификации функций для работы с JSON*\n",
    "\n",
    "- `json.load(file)`\n",
    "\n",
    "Назначение: Чтение JSON-данных из файла.\n",
    "\n",
    "Параметры:\n",
    "    \n",
    "    - `file`: файловый объект, открытый в режиме чтения.\n",
    "\n",
    "Возвращает: структуру данных Python (списки, словари и т.д.).\n",
    "\n",
    "- Рекурсивная функция `_flatten`\n",
    "\n",
    "Назначение: Преобразование вложенных списков в плоский список чисел.\n",
    "\n",
    "Параметры:\n",
    "    \n",
    "    - `lst`: вложенная структура (списки, числа).\n",
    "\n",
    "Возвращает: одномерный список чисел."
   ]
  },
  {
   "cell_type": "markdown",
   "id": "90683878",
   "metadata": {},
   "source": [
    "## Задание 7.4. Перегрузка операции принадлежности `in`"
   ]
  },
  {
   "cell_type": "markdown",
   "id": "42ededb2",
   "metadata": {},
   "source": [
    "<span style=\"color:red;\">Переопределите</span> классы `BinaryTree`, `BinaryNode`, `EmptyNode` за счет\n",
    "определения нового метода `__contains__(self, value)` для перегрузки\n",
    "операции принадлежности `in`. Рекомендации по выполнению представлены в\n",
    "лекции к теме Бинарное дерево поиска. Реализация на основе ООП."
   ]
  },
  {
   "cell_type": "code",
   "execution_count": 29,
   "id": "7138f432",
   "metadata": {},
   "outputs": [],
   "source": [
    "class EmptyNode:\n",
    "    \"\"\"Пустой узел\"\"\"\n",
    "    def __repr__(self):\n",
    "        return '*'\n",
    "    \n",
    "    def insert(self, value):\n",
    "        return BinaryNode(EmptyNode(), value, EmptyNode())\n",
    "    \n",
    "    def __contains__(self, value):\n",
    "        \"\"\"Пустой узел никогда не содержит значений\"\"\"\n",
    "        return False\n",
    "\n",
    "class BinaryNode:\n",
    "    \"\"\"Узел бинарного дерева поиска\"\"\"\n",
    "    def __init__(self, left, value, right):\n",
    "        self.left = left    \n",
    "        self.value = value  \n",
    "        self.right = right  \n",
    "        \n",
    "    def __repr__(self):\n",
    "        return f'({self.left}, {self.value}, {self.right})'\n",
    "    \n",
    "    def insert(self, value):\n",
    "        if value < self.value:\n",
    "            self.left = self.left.insert(value)\n",
    "        else:\n",
    "            self.right = self.right.insert(value)\n",
    "        return self\n",
    "    \n",
    "    def __contains__(self, value):\n",
    "        \"\"\"Проверка наличия значения в узле или его потомках\"\"\"\n",
    "        if value == self.value:\n",
    "            return True\n",
    "        elif value < self.value:\n",
    "            return value in self.left  # рекурсивный поиск в левом поддереве\n",
    "        else:\n",
    "            return value in self.right # рекурсивный поиск в правом поддереве\n",
    "\n",
    "class BinaryTree:\n",
    "    \"\"\"Бинарное дерево поиска\"\"\"\n",
    "    def __init__(self):\n",
    "        self.root = EmptyNode()\n",
    "        \n",
    "    def __repr__(self):\n",
    "        return repr(self.root)\n",
    "    \n",
    "    def insert(self, value):\n",
    "        self.root = self.root.insert(value)\n",
    "    \n",
    "    def __contains__(self, value):\n",
    "        \"\"\"Проверка наличия значения в дереве\"\"\"\n",
    "        return value in self.root"
   ]
  },
  {
   "cell_type": "markdown",
   "id": "3e61686a",
   "metadata": {},
   "source": [
    "<span style=\"color:red;\">Протестируйте</span> корректность выполнения операции `in` на трех примерах."
   ]
  },
  {
   "cell_type": "code",
   "execution_count": 34,
   "id": "43be6042",
   "metadata": {},
   "outputs": [
    {
     "name": "stdout",
     "output_type": "stream",
     "text": [
      "(*, 5, *)\n",
      "((*, 1, *), 5, *)\n",
      "((*, 1, *), 5, (*, 10, *))\n",
      "((*, 1, (*, 3, *)), 5, (*, 10, *))\n",
      "((*, 1, (*, 3, (*, 4, *))), 5, (*, 10, *))\n",
      "(0, False) (1, True) (2, False) (3, True) (4, True) (5, True) (6, False) (7, False) (8, False) (9, False) "
     ]
    }
   ],
   "source": [
    "source_data = [5,1,10,3,4]\n",
    "tree = BinaryTree()\n",
    "for i in source_data:\n",
    "    tree.insert(i)\n",
    "    print(tree)\n",
    "for i in range(10):\n",
    "    print((i, i in tree), end = ' ')\n"
   ]
  },
  {
   "cell_type": "markdown",
   "id": "5bc740e1",
   "metadata": {},
   "source": [
    "Пример 1: Простое дерево с числами"
   ]
  },
  {
   "cell_type": "code",
   "execution_count": 30,
   "id": "e0a1de36",
   "metadata": {},
   "outputs": [
    {
     "name": "stdout",
     "output_type": "stream",
     "text": [
      "True\n",
      "False\n"
     ]
    }
   ],
   "source": [
    "tree = BinaryTree()\n",
    "data = [5, 3, 7, 2, 4]\n",
    "for num in data:\n",
    "    tree.insert(num)\n",
    "\n",
    "print(3 in tree) \n",
    "print(6 in tree)"
   ]
  },
  {
   "cell_type": "markdown",
   "id": "63f741e1",
   "metadata": {},
   "source": [
    "Пример 2: Дерево с одним элементом"
   ]
  },
  {
   "cell_type": "code",
   "execution_count": 31,
   "id": "58a0b2eb",
   "metadata": {},
   "outputs": [
    {
     "name": "stdout",
     "output_type": "stream",
     "text": [
      "True\n",
      "False\n"
     ]
    }
   ],
   "source": [
    "tree = BinaryTree()\n",
    "tree.insert(10)\n",
    "\n",
    "print(10 in tree)  \n",
    "print(5 in tree)"
   ]
  },
  {
   "cell_type": "markdown",
   "id": "cea6bd43",
   "metadata": {},
   "source": [
    "Пример 3: Пустое дерево"
   ]
  },
  {
   "cell_type": "code",
   "execution_count": 32,
   "id": "abc0ad93",
   "metadata": {},
   "outputs": [
    {
     "name": "stdout",
     "output_type": "stream",
     "text": [
      "False\n"
     ]
    }
   ],
   "source": [
    "tree = BinaryTree()\n",
    "\n",
    "print(5 in tree)"
   ]
  },
  {
   "cell_type": "markdown",
   "id": "9031d40a",
   "metadata": {},
   "source": [
    "## Задание 7.5. Перегрузка встроенной функции `len`"
   ]
  },
  {
   "cell_type": "markdown",
   "id": "644b63b0",
   "metadata": {},
   "source": [
    "<span style=\"color:red;\">Переопределите </span>классы `BinaryTree`, `BinaryNode`, `EmptyNode` за счет\n",
    "определения нового метода `__len__(self)` для перегрузки встроенной функции\n",
    "`len`, которая возвращает количество вершин в бинарном дереве поиска.\n",
    "Рекомендации по выполнению представлены в лекции к теме Бинарное дерево\n",
    "поиска. Реализация на основе ООП."
   ]
  },
  {
   "cell_type": "code",
   "execution_count": 35,
   "id": "61b4d7d9",
   "metadata": {},
   "outputs": [],
   "source": [
    "class EmptyNode:\n",
    "    \"\"\"Пустой узел\"\"\"\n",
    "    def __repr__(self):\n",
    "        return '*'\n",
    "    \n",
    "    def insert(self, value):\n",
    "        return BinaryNode(EmptyNode(), value, EmptyNode())\n",
    "    \n",
    "    def __len__(self):\n",
    "        \"\"\"Пустой узел имеет длину 0\"\"\"\n",
    "        return 0\n",
    "\n",
    "class BinaryNode:\n",
    "    \"\"\"Узел бинарного дерева поиска\"\"\"\n",
    "    def __init__(self, left, value, right):\n",
    "        self.left = left    \n",
    "        self.value = value  \n",
    "        self.right = right  \n",
    "        \n",
    "    def __repr__(self):\n",
    "        return f'({self.left}, {self.value}, {self.right})'\n",
    "    \n",
    "    def insert(self, value):\n",
    "        if value < self.value:\n",
    "            self.left = self.left.insert(value)\n",
    "        else:\n",
    "            self.right = self.right.insert(value)\n",
    "        return self\n",
    "    \n",
    "    def __len__(self):\n",
    "        \"\"\"Количество узлов: текущий узел + левое поддерево + правое поддерево\"\"\"\n",
    "        return 1 + len(self.left) + len(self.right)\n",
    "\n",
    "class BinaryTree:\n",
    "    \"\"\"Бинарное дерево поиска\"\"\"\n",
    "    def __init__(self):\n",
    "        self.root = EmptyNode()\n",
    "        \n",
    "    def __repr__(self):\n",
    "        return repr(self.root)\n",
    "    \n",
    "    def insert(self, value):\n",
    "        self.root = self.root.insert(value)\n",
    "    \n",
    "    def __len__(self):\n",
    "        \"\"\"Общее количество узлов в дереве\"\"\"\n",
    "        return len(self.root)"
   ]
  },
  {
   "cell_type": "markdown",
   "id": "38c1d855",
   "metadata": {},
   "source": [
    "<span style=\"color:red;\">Протестируйте </span> корректность выполнения функции `len` на трех примерах."
   ]
  },
  {
   "cell_type": "code",
   "execution_count": 36,
   "id": "9d10460c",
   "metadata": {},
   "outputs": [
    {
     "data": {
      "text/plain": [
       "5"
      ]
     },
     "execution_count": 36,
     "metadata": {},
     "output_type": "execute_result"
    }
   ],
   "source": [
    "tree = BinaryTree()\n",
    "for i in source_data:\n",
    "    tree.insert(i)\n",
    "len(tree)"
   ]
  },
  {
   "cell_type": "markdown",
   "id": "d12e317f",
   "metadata": {},
   "source": [
    "Пример 1: Пустое дерево"
   ]
  },
  {
   "cell_type": "code",
   "execution_count": 37,
   "id": "d6a4f9aa",
   "metadata": {},
   "outputs": [
    {
     "name": "stdout",
     "output_type": "stream",
     "text": [
      "0\n"
     ]
    }
   ],
   "source": [
    "tree = BinaryTree()\n",
    "print(len(tree))"
   ]
  },
  {
   "cell_type": "markdown",
   "id": "0240497e",
   "metadata": {},
   "source": [
    "Пример 2: Дерево с одним элементом"
   ]
  },
  {
   "cell_type": "code",
   "execution_count": 38,
   "id": "f091e519",
   "metadata": {},
   "outputs": [
    {
     "name": "stdout",
     "output_type": "stream",
     "text": [
      "1\n"
     ]
    }
   ],
   "source": [
    "tree.insert(10)\n",
    "print(len(tree))"
   ]
  },
  {
   "cell_type": "markdown",
   "id": "0f9097f9",
   "metadata": {},
   "source": [
    "Пример 3: Дерево с несколькими элементами"
   ]
  },
  {
   "cell_type": "code",
   "execution_count": 42,
   "id": "7e7abd96",
   "metadata": {},
   "outputs": [
    {
     "name": "stdout",
     "output_type": "stream",
     "text": [
      "5\n"
     ]
    }
   ],
   "source": [
    "tree = BinaryTree()\n",
    "values = [5, 3, 7, 2, 4]\n",
    "for v in values:\n",
    "    tree.insert(v)\n",
    "print(len(tree))"
   ]
  },
  {
   "cell_type": "code",
   "execution_count": null,
   "id": "c6393ca7",
   "metadata": {},
   "outputs": [],
   "source": []
  }
 ],
 "metadata": {
  "kernelspec": {
   "display_name": "base",
   "language": "python",
   "name": "python3"
  },
  "language_info": {
   "codemirror_mode": {
    "name": "ipython",
    "version": 3
   },
   "file_extension": ".py",
   "mimetype": "text/x-python",
   "name": "python",
   "nbconvert_exporter": "python",
   "pygments_lexer": "ipython3",
   "version": "3.12.7"
  }
 },
 "nbformat": 4,
 "nbformat_minor": 5
}
