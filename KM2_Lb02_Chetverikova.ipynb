{
 "cells": [
  {
   "cell_type": "markdown",
   "id": "6080d7df-8374-4dd4-8981-38f3a6e64b1b",
   "metadata": {},
   "source": [
    "# Лабораторная работа 2. Встроенные типы объектов в Pyhon"
   ]
  },
  {
   "cell_type": "markdown",
   "id": "ea8b0c26-1e8f-4b53-b125-c6de3bbe08d3",
   "metadata": {},
   "source": [
    "Четверикова Вера Борисовна, 10.03.2025"
   ]
  },
  {
   "cell_type": "markdown",
   "id": "2879704f-1755-4fb4-b3e1-70ea6b939e0c",
   "metadata": {},
   "source": [
    "# Задание 1. Построение иерархии встроенных типов в Python"
   ]
  },
  {
   "cell_type": "markdown",
   "id": "cf6c03e4-401a-4abc-b554-25650507c129",
   "metadata": {},
   "source": [
    "## 1. Иерархия встроенных типов"
   ]
  },
  {
   "cell_type": "markdown",
   "id": "e3d4bc1e-9397-4f11-8b56-2720efdd3918",
   "metadata": {},
   "source": [
    "1. **Числовые типы (Numbers)**\n",
    "   - **int** (целые числа)\n",
    "     - Пример: `1`, `2`, `-5`\n",
    "     - Изменяемость: неизменяемый\n",
    "   - **float** (числа с плавающей точкой)\n",
    "     - Пример: `1.0`, `3.14`, `-2.5`\n",
    "     - Изменяемость: неизменяемый\n",
    "   - **complex** (комплексные числа)\n",
    "     - Пример: `1 + 2j`, `3 + 4j`\n",
    "     - Изменяемость: неизменяемый\n",
    "   - **bool** (логические значения)\n",
    "     - Пример: `True`, `False`\n",
    "     - Изменяемость: неизменяемый\n",
    "\n",
    "2. **Коллекции (Collections)**\n",
    "   - **Последовательности (Sequences)**\n",
    "     - **str** (строки)\n",
    "       - Пример: `'hello'`, `\"world\"`\n",
    "       - Упорядоченность: упорядоченная\n",
    "       - Изменяемость: неизменяемый\n",
    "     - **list** (списки)\n",
    "       - Пример: `[1, 2, 3]`, `['a', 'b', 'c']`\n",
    "       - Упорядоченность: упорядоченная\n",
    "       - Изменяемость: изменяемый\n",
    "     - **tuple** (кортежи)\n",
    "       - Пример: `(1, 2, 3)`, `('a', 'b')`\n",
    "       - Упорядоченность: упорядоченная\n",
    "       - Изменяемость: неизменяемый\n",
    "   - **Отображения (Mappings)**\n",
    "     - **dict** (словари)\n",
    "       - Пример: `{'key': 'value', 'name': 'Alice'}`\n",
    "       - Упорядоченность: неупорядоченная (в Python 3.7+ сохраняет порядок вставки)\n",
    "       - Изменяемость: изменяемый\n",
    "   - **Множества (Sets)**\n",
    "     - **set** (множества)\n",
    "       - Пример: `{1, 2, 3}`\n",
    "       - Упорядоченность: неупорядоченная\n",
    "       - Изменяемость: изменяемый\n",
    "     - **frozenset** (неизменяемые множества)\n",
    "       - Пример: `frozenset([1, 2, 3])`\n",
    "       - Упорядоченность: неупорядоченная\n",
    "       - Изменяемость: неизменяемый\n",
    "\n",
    "# Задание 2. Проработка примеров, представленных в лекционном файле"
   ]
  },
  {
   "cell_type": "markdown",
   "id": "477e8881-4416-46a7-a7c5-0892ed0d1b7c",
   "metadata": {},
   "source": [
    "## Задания 2.1, 2.2"
   ]
  },
  {
   "cell_type": "markdown",
   "id": "fff702d9-6801-4cbb-9ef8-d8d9142cede0",
   "metadata": {},
   "source": [
    "### 2. Объект как фундаментальное понятие в Python. Встроенные типы объектов"
   ]
  },
  {
   "cell_type": "markdown",
   "id": "7ed4b6f0-0a53-4ca3-a0e6-63d140a9c0ec",
   "metadata": {},
   "source": [
    "#### 2.1 Понятие объекта. Атрибуты. Методы. Встроенные типы объектов\n",
    "Объект в Python — это базовая сущность для представления данных. К объектам в Python относятся: данные встроенных типов, встроенные и пользовательские функции, файлы, модули, встроенные и пользовательские классы, экземпляры классов и т.д. Внутренне объекты представляют собой области выделенной памяти с достаточным пространством для хранения информации об объекте. У объекта могут быть метаданные, которые называются атрибутами."
   ]
  },
  {
   "cell_type": "markdown",
   "id": "5b18ee22-b143-4a4c-b533-0964e136c22a",
   "metadata": {},
   "source": [
    "#### 2.2 Встроенные типы объектов, представляющих числа\n",
    "Примеры создания целых чисел (int) в различных системах счисления: `1_000_111_111_000`, `0b11`, `0o11`, `0x11`, `int()`.\n",
    "\n",
    "**Создайте объекты невстроенных числовых типов `decimal` и `fraction`. Приведите примеры вызова операций или методов для созданных объектов.**"
   ]
  },
  {
   "cell_type": "code",
   "execution_count": 24,
   "id": "10745408-a718-490f-aef7-09b75d4dfe7d",
   "metadata": {},
   "outputs": [
    {
     "name": "stdout",
     "output_type": "stream",
     "text": [
      "5.00\n",
      "2/15\n"
     ]
    }
   ],
   "source": [
    "from decimal import Decimal\n",
    "from fractions import Fraction\n",
    "\n",
    "# Создание объектов\n",
    "decimal_number = Decimal('3.14')\n",
    "fraction_number = Fraction(1, 3)\n",
    "\n",
    "# Примеры операций\n",
    "print(decimal_number + Decimal('1.86'))  # Сложение\n",
    "print(fraction_number * Fraction(2, 5))    # Умножение"
   ]
  },
  {
   "cell_type": "markdown",
   "id": "ec302603-e1a7-418b-96fa-b9c6fe1346bf",
   "metadata": {},
   "source": [
    "Decimal обеспечивает более точные вычисления с плавающей точкой, а Fraction позволяет работать с дробями."
   ]
  },
  {
   "cell_type": "markdown",
   "id": "bbe4a309-34c9-4d8d-86f6-437f919a9d61",
   "metadata": {},
   "source": [
    "#### 2.3 Встроенные типы последовательностей: str, list, tuple\n",
    "Строка (str) — это последовательность символов для хранения и представления текста, которую нельзя изменять после ее создания (read-only, immutable). Список (list) — это последовательность объектов произвольных типов, которую можно изменять после ее создания. Кортежи (tuple) — это последовательность объектов произвольных типов, которую нельзя изменять после ее создания (read-only, immutable).\n",
    "\n",
    "**Определите строку S из четырех символов: S = 'spam'. Измените строку S на 'slam', используя только нарезание и конкатенацию.**"
   ]
  },
  {
   "cell_type": "code",
   "execution_count": 29,
   "id": "4dd26887-1095-4867-ae8e-47ce01ca031b",
   "metadata": {},
   "outputs": [
    {
     "name": "stdout",
     "output_type": "stream",
     "text": [
      "slam\n"
     ]
    }
   ],
   "source": [
    "S = 'spam'\n",
    "S = S[:1] + 'l' + S[2:]  # Изменение на 'slam'\n",
    "print(S)"
   ]
  },
  {
   "cell_type": "markdown",
   "id": "63befdad-c585-45cd-9d49-df0a95095d75",
   "metadata": {},
   "source": [
    "**Можно ли было бы выполнить ту же самую операцию с применением только индексации и конкатенации?**\n",
    "\n",
    "Нет, поскольку строки в Python неизменяемы и нельзя присваивать значения по индексу.\n",
    "\n",
    "**Примеры для списка и кортежа**"
   ]
  },
  {
   "cell_type": "code",
   "execution_count": 35,
   "id": "496b6c09-f21e-431d-b9bb-5873f4c69020",
   "metadata": {},
   "outputs": [
    {
     "name": "stdout",
     "output_type": "stream",
     "text": [
      "[1, 5, 3, 4]\n"
     ]
    }
   ],
   "source": [
    "# Список\n",
    "lst = [1, 2, 3, 4]\n",
    "lst[1] = 5  # Изменение элемента по индексу\n",
    "print(lst)\n",
    "\n",
    "# Кортеж\n",
    "tpl = (1, 2, 3, 4)"
   ]
  },
  {
   "cell_type": "markdown",
   "id": "8862d0d7-34ea-4c07-8135-ad113d0bf51e",
   "metadata": {},
   "source": [
    "Строки неизменяемы, что ограничивает возможности их изменения по индексу. Списки, напротив, допускают изменения."
   ]
  },
  {
   "cell_type": "markdown",
   "id": "a5ba53b8-f00a-4b11-933d-540a17348d8c",
   "metadata": {},
   "source": [
    "#### 2.4 Встроенный тип отображения: dict\n",
    "Отображение — это неупорядоченная коллекция элементов в виде пары объектов ключ: значение. Словарь (dict) — это единственный встроенный тип Python, который относится к отображениям.\n",
    "\n",
    "**Напишите структуру данных, которая представляет вашу персональную информацию.**"
   ]
  },
  {
   "cell_type": "code",
   "execution_count": 39,
   "id": "2ee7ff62-a447-4d77-82dd-0825d35e1328",
   "metadata": {},
   "outputs": [
    {
     "name": "stdout",
     "output_type": "stream",
     "text": [
      "('Вера', 'Борисовна', 'Четверикова')\n",
      "18\n"
     ]
    }
   ],
   "source": [
    "personal_info = {\n",
    "    'name': ('Вера', 'Борисовна', 'Четверикова'),\n",
    "    'age': 18,\n",
    "    'workplace': '-',\n",
    "    'address': '-',\n",
    "    'email': 'chetverikovvera@gmail.com',\n",
    "    'phone': '+375(29)688-44-17'\n",
    "}\n",
    "\n",
    "print(personal_info['name'])\n",
    "print(personal_info['age'])"
   ]
  },
  {
   "cell_type": "markdown",
   "id": "8d019a28-9598-4053-9e61-6a0213e84bb9",
   "metadata": {},
   "source": [
    "Структуры данных позволяют удобно организовывать и извлекать информацию. Словарь является удобным способом для хранения и доступа к данным."
   ]
  },
  {
   "cell_type": "markdown",
   "id": "cd4a6295-6d92-47d4-8662-f2694912e59a",
   "metadata": {},
   "source": [
    "#### 2.5 Встроенный тип множества: set\n",
    "Множество (set) — это неупорядоченная коллекция не повторяющихся объектов. Элемент встречается во множестве только однажды независимо от того, сколько раз он добавлялся.\n",
    "\n",
    "**Приведите пример удаления повторяющихся символов строки с использованием множества.**"
   ]
  },
  {
   "cell_type": "code",
   "execution_count": 64,
   "id": "49a5639e-b172-47f4-8b53-84c11fbd07d6",
   "metadata": {},
   "outputs": [
    {
     "name": "stdout",
     "output_type": "stream",
     "text": [
      "{'s', 'a', 'b', 'u', 'i', 'c', 'p', 'e', 'f', ' ', 'o', 'n', 'd', 'h'}\n"
     ]
    }
   ],
   "source": [
    "string = \"happiness can be found\"\n",
    "unique = set(string)  # Удаление повторяющихся символов\n",
    "print(unique)"
   ]
  },
  {
   "cell_type": "markdown",
   "id": "f6cde96a-af5f-48c3-936a-e4a322083647",
   "metadata": {},
   "source": [
    "Множества автоматически удаляют дубликаты, что удобно для обработки строк."
   ]
  },
  {
   "cell_type": "markdown",
   "id": "867b30c4-549a-47c4-8e3a-77a77a303481",
   "metadata": {},
   "source": [
    "#### 2.6 Встроенный булевый тип\n",
    "Булевый тип в Python имеет только два значения: `True` и `False`. Эти значения используются для логических операций и условных выражений."
   ]
  },
  {
   "cell_type": "markdown",
   "id": "3dba599a-1215-4550-8858-4fbeac8973ae",
   "metadata": {},
   "source": [
    "#### 2.7 Изменяемые и неизменяемые встроенные типы объектов\n",
    "Все типы данных в Python делятся на изменяемые (например, списки, словари, множества) и неизменяемые (например, числа, строки, кортежи).\n",
    "Изменяемые типы позволяют изменять свои значения, в то время как неизменяемые типы не могут быть изменены после создания."
   ]
  },
  {
   "cell_type": "markdown",
   "id": "a2e677c5-20fe-4b4f-8cba-33e9b73fd8c3",
   "metadata": {},
   "source": [
    "#### 2.8 Интерфейс объекта: операции и методы\n",
    "Множество операций и методов для конкретного типа объектов называется интерфейсом объекта. \n",
    "Операции в Python могут быть представлены с помощью специальных символов или встроенных функций.\n",
    "\n",
    "**Приведите примеры вызова методов count и index для всех возможных типов объектов.**"
   ]
  },
  {
   "cell_type": "code",
   "execution_count": 74,
   "id": "a778bd2e-1824-4d6f-bd22-057de4c90cb4",
   "metadata": {},
   "outputs": [
    {
     "name": "stdout",
     "output_type": "stream",
     "text": [
      "2\n",
      "4\n",
      "3\n",
      "3\n"
     ]
    }
   ],
   "source": [
    "# Примеры для строки\n",
    "str = \"happiness\"\n",
    "print(str.count('p'))  # Количество 'p'\n",
    "print(str.index('i'))  # Индекс 'i'\n",
    "\n",
    "# Примеры для списка\n",
    "lst1 = [3, 2, 3, 5, 3]\n",
    "print(lst1.count(3))  # Количество 3\n",
    "print(lst1.index(5))  # Индекс 5"
   ]
  },
  {
   "cell_type": "markdown",
   "id": "04eb35c8-94ba-4b0e-90af-abac8b03b660",
   "metadata": {},
   "source": [
    "Методы count и index позволяют удобно работать с элементами объектов, возвращая количество и индекс.\n",
    "\n",
    "**Пример выражения, в котором для заданной строки последовательно применены три различных строковых метода.**"
   ]
  },
  {
   "cell_type": "code",
   "execution_count": 72,
   "id": "57f679d3-0dc4-4fca-b1d6-67fd21cd638e",
   "metadata": {},
   "outputs": [
    {
     "name": "stdout",
     "output_type": "stream",
     "text": [
      "in deserts can be found\n"
     ]
    }
   ],
   "source": [
    "st = \"  Happiness Can Be Found  \"\n",
    "result = st.strip().lower().replace('happiness', 'in deserts')\n",
    "print(result)"
   ]
  },
  {
   "cell_type": "markdown",
   "id": "448e91e2-1c3b-40c8-b37e-554c3e8eedb5",
   "metadata": {},
   "source": [
    "***Спецификация:***\n",
    "- strip(): удаляет пробелы в начале и конце строки.\n",
    "- lower(): переводит строку в нижний регистр.\n",
    "- replace(): заменяет подстроку.\n",
    "\n",
    "**Примеры добавления элемента в список с использованием трех различных списковых методов.**"
   ]
  },
  {
   "cell_type": "code",
   "execution_count": 76,
   "id": "19aadf5a-2418-4824-83ca-03a575ef8dce",
   "metadata": {},
   "outputs": [
    {
     "name": "stdout",
     "output_type": "stream",
     "text": [
      "[0, 1, 2, 3, 4, 5, 6]\n"
     ]
    }
   ],
   "source": [
    "lst2 = [1, 2, 3]\n",
    "\n",
    "lst2.append(4)\n",
    "lst2.insert(0, 0)\n",
    "lst2.extend([5, 6])\n",
    "\n",
    "print(lst2)"
   ]
  },
  {
   "cell_type": "markdown",
   "id": "4a26d290-ff3c-4588-aa31-11175e29fa80",
   "metadata": {},
   "source": [
    "**Пример сортировки списка с использованием метода sort и заданного аргумента key.**"
   ]
  },
  {
   "cell_type": "code",
   "execution_count": 81,
   "id": "15bd978f-5dc8-4d4b-bbf4-75b4beb4e6f5",
   "metadata": {},
   "outputs": [
    {
     "name": "stdout",
     "output_type": "stream",
     "text": [
      "['potato', 'cucumber', 'cauliflower']\n"
     ]
    }
   ],
   "source": [
    "lst3 = ['potato', 'cauliflower', 'cucumber']\n",
    "lst3.sort(key=len)  # Сортировка по длине строки\n",
    "print(lst3)"
   ]
  },
  {
   "cell_type": "markdown",
   "id": "87224ac5-fc87-4a64-b090-d52885f94378",
   "metadata": {},
   "source": [
    "Сортировка с ключом позволяет изменять порядок элементов по заданному критерию.\n",
    "\n",
    "**Создайте словарь из 100 элементов с одинаковыми значениями.**"
   ]
  },
  {
   "cell_type": "code",
   "execution_count": 95,
   "id": "1df08401-b06b-45f4-8f44-3170044161cb",
   "metadata": {},
   "outputs": [
    {
     "name": "stdout",
     "output_type": "stream",
     "text": [
      "Словарь: {0: 'value', 1: 'value', 2: 'value', 3: 'value', 4: 'value', 5: 'value', 6: 'value', 7: 'value', 8: 'value', 9: 'value', 10: 'value', 11: 'value', 12: 'value', 13: 'value', 14: 'value', 15: 'value', 16: 'value', 17: 'value', 18: 'value', 19: 'value', 20: 'value', 21: 'value', 22: 'value', 23: 'value', 24: 'value', 25: 'value', 26: 'value', 27: 'value', 28: 'value', 29: 'value', 30: 'value', 31: 'value', 32: 'value', 33: 'value', 34: 'value', 35: 'value', 36: 'value', 37: 'value', 38: 'value', 39: 'value', 40: 'value', 41: 'value', 42: 'value', 43: 'value', 44: 'value', 45: 'value', 46: 'value', 47: 'value', 48: 'value', 49: 'value', 50: 'value', 51: 'value', 52: 'value', 53: 'value', 54: 'value', 55: 'value', 56: 'value', 57: 'value', 58: 'value', 59: 'value', 60: 'value', 61: 'value', 62: 'value', 63: 'value', 64: 'value', 65: 'value', 66: 'value', 67: 'value', 68: 'value', 69: 'value', 70: 'value', 71: 'value', 72: 'value', 73: 'value', 74: 'value', 75: 'value', 76: 'value', 77: 'value', 78: 'value', 79: 'value', 80: 'value', 81: 'value', 82: 'value', 83: 'value', 84: 'value', 85: 'value', 86: 'value', 87: 'value', 88: 'value', 89: 'value', 90: 'value', 91: 'value', 92: 'value', 93: 'value', 94: 'value', 95: 'value', 96: 'value', 97: 'value', 98: 'value', 99: 'value'}\n"
     ]
    }
   ],
   "source": [
    "dict1 = {i: 'value' for i in range(100)}\n",
    "print(\"Словарь:\", dict1)"
   ]
  },
  {
   "cell_type": "markdown",
   "id": "b28cf459-97dd-4fb4-90e8-829200ef328b",
   "metadata": {},
   "source": [
    "#### 2.9 Переменная\n",
    "Переменная создается при первом присваивании ей значения. \n",
    "Переменная в Python является ссылкой на объект, который хранится в памяти.\n",
    "\n",
    "**Примеры создания циклического объекта для различных встроенных типов.**"
   ]
  },
  {
   "cell_type": "code",
   "execution_count": 100,
   "id": "a9022d48-afad-44bb-8d81-fe92d2118955",
   "metadata": {},
   "outputs": [
    {
     "name": "stdout",
     "output_type": "stream",
     "text": [
      "Циклический объект списка: [[...]]\n",
      "Циклический объект словаря: {'self': {...}}\n"
     ]
    }
   ],
   "source": [
    "cyclic_l = []\n",
    "cyclic_l.append(cyclic_l)\n",
    "print(\"Циклический объект списка:\", cyclic_l)\n",
    "\n",
    "cyclic_d = {}\n",
    "cyclic_d[\"self\"] = cyclic_d \n",
    "print(\"Циклический объект словаря:\", cyclic_d)"
   ]
  },
  {
   "cell_type": "markdown",
   "id": "59efa2aa-666e-41fe-a28f-0970d22f3ce0",
   "metadata": {},
   "source": [
    "Циклические ссылки могут создавать сложные структуры данных, полезные для некоторых задач."
   ]
  },
  {
   "cell_type": "markdown",
   "id": "5d4ae197-4e4b-43b7-9831-1150d33c139f",
   "metadata": {},
   "source": [
    "**Создайте объект, на который ссылаются четыре переменные. Как можно узнать количество ссылок для заданного объекта?**"
   ]
  },
  {
   "cell_type": "code",
   "execution_count": 103,
   "id": "caaec3fc-8ad3-4bc1-b808-8136230dea48",
   "metadata": {},
   "outputs": [
    {
     "name": "stdout",
     "output_type": "stream",
     "text": [
      "Количество ссылок на объект a2: 5\n"
     ]
    }
   ],
   "source": [
    "a2 = [1, 2, 3]\n",
    "b1 = a2\n",
    "c1 = a2\n",
    "d1 = a2\n",
    "\n",
    "import sys\n",
    "print(\"Количество ссылок на объект a2:\", sys.getrefcount(a2))"
   ]
  },
  {
   "cell_type": "markdown",
   "id": "c58e8f6a-6d06-40bf-abb8-3820b5c39687",
   "metadata": {},
   "source": [
    "Использование sys.getrefcount позволяет отслеживать количество ссылок на объект в памяти.\n",
    "\n",
    "**Приведите три различных способа копирования списка.**"
   ]
  },
  {
   "cell_type": "code",
   "execution_count": 107,
   "id": "c10d7348-438f-43ee-9640-d0528b219515",
   "metadata": {},
   "outputs": [
    {
     "name": "stdout",
     "output_type": "stream",
     "text": [
      "Копии списка: [1, 2, 3] [1, 2, 3] [1, 2, 3]\n"
     ]
    }
   ],
   "source": [
    "list3 = [1, 2, 3]\n",
    "\n",
    "# Способ 1: Используя метод copy\n",
    "copy1 = list3.copy()\n",
    "\n",
    "# Способ 2: С помощью среза\n",
    "copy2 = list3[:]\n",
    "\n",
    "# Способ 3: С помощью функции list()\n",
    "copy3 = list(list3)\n",
    "\n",
    "print(\"Копии списка:\", copy1, copy2, copy3)"
   ]
  },
  {
   "cell_type": "markdown",
   "id": "cc984b17-0261-488b-82d3-952688ef8446",
   "metadata": {},
   "source": [
    "Различные методы копирования помогают избежать изменения оригинального списка при модификации копий."
   ]
  },
  {
   "cell_type": "markdown",
   "id": "6de78bd5-db31-4adc-90db-d76d46fc8787",
   "metadata": {},
   "source": [
    "#### 2.10 Выражение спискового включения\n",
    "Списковое включение позволяет создавать новый список, применяя выражение к каждому элементу последовательности. \n",
    "Синтаксис: `[expr(elem) for elem in sequence]`.\n",
    "\n",
    "**Приведите пример создания множества с использованием синтаксиса включения с условием.**"
   ]
  },
  {
   "cell_type": "code",
   "execution_count": 111,
   "id": "b4e9084e-2509-44d9-bb64-0a0c2b11a9f7",
   "metadata": {},
   "outputs": [
    {
     "name": "stdout",
     "output_type": "stream",
     "text": [
      "Уникальные гласные: {'a', 'u', 'i', 'e', 'o'}\n"
     ]
    }
   ],
   "source": [
    "unique1 = {char for char in \"happiness can be found\" if char in \"aeiou\"}  # Уникальные гласные\n",
    "print(\"Уникальные гласные:\", unique1)"
   ]
  },
  {
   "cell_type": "markdown",
   "id": "b632a867-ba25-4ee0-821a-57fff5ca22fe",
   "metadata": {},
   "source": [
    "Включение с условием позволяет эффективно создавать множества с уникальными значениями.\n",
    "\n",
    "**Приведите пример создания числовой матрицы размера 7 × 8 на основе списка с использованием вложенных включений.**"
   ]
  },
  {
   "cell_type": "code",
   "execution_count": 124,
   "id": "7480e513-8c3a-4c50-b489-6e1db4aa60e4",
   "metadata": {},
   "outputs": [
    {
     "name": "stdout",
     "output_type": "stream",
     "text": [
      "Числовая матрица 7x8: [[0, 1, 2, 3, 4, 5, 6, 7], [0, 1, 2, 3, 4, 5, 6, 7], [0, 1, 2, 3, 4, 5, 6, 7], [0, 1, 2, 3, 4, 5, 6, 7], [0, 1, 2, 3, 4, 5, 6, 7], [0, 1, 2, 3, 4, 5, 6, 7], [0, 1, 2, 3, 4, 5, 6, 7]]\n"
     ]
    }
   ],
   "source": [
    "matrix1 = [[j for j in range(8)] for i in range(7)]\n",
    "print(\"Числовая матрица 7x8:\", matrix1)"
   ]
  },
  {
   "cell_type": "markdown",
   "id": "ea7e0155-95ce-4661-8404-e8ad56329c9f",
   "metadata": {},
   "source": [
    "Вложенные списковые включения позволяют создавать сложные структуры данных, такие как матрицы.\n",
    "\n",
    "**Попробуйте создать аналогичную матрицу, используя инструменты расширения numpy.**"
   ]
  },
  {
   "cell_type": "code",
   "execution_count": 118,
   "id": "0cae008b-9ceb-4874-897b-3b19feda27b9",
   "metadata": {},
   "outputs": [
    {
     "name": "stdout",
     "output_type": "stream",
     "text": [
      "Числовая матрица 7x8 с использованием numpy:\n",
      " [[0. 0. 0. 0. 0. 0. 0. 0.]\n",
      " [0. 0. 0. 0. 0. 0. 0. 0.]\n",
      " [0. 0. 0. 0. 0. 0. 0. 0.]\n",
      " [0. 0. 0. 0. 0. 0. 0. 0.]\n",
      " [0. 0. 0. 0. 0. 0. 0. 0.]\n",
      " [0. 0. 0. 0. 0. 0. 0. 0.]\n",
      " [0. 0. 0. 0. 0. 0. 0. 0.]]\n"
     ]
    }
   ],
   "source": [
    "import numpy as np\n",
    "\n",
    "matrix2 = np.zeros((7, 8))  # Создаем матрицу 7x8, заполненную нулями\n",
    "print(\"Числовая матрица 7x8 с использованием numpy:\\n\", matrix2)"
   ]
  },
  {
   "cell_type": "markdown",
   "id": "7fab2f6a-71e5-4ea0-bbee-f8b3ddea1a00",
   "metadata": {},
   "source": [
    "Использование библиотеки numpy для работы с матрицами обеспечивает более высокую производительность и удобство.\n",
    "\n",
    "**Приведите пример создания словаря с использованием синтаксиса включения с двумя уровнями вложенности.**"
   ]
  },
  {
   "cell_type": "code",
   "execution_count": 127,
   "id": "c8aec447-d0a1-400e-a8fa-f341586d2bc9",
   "metadata": {},
   "outputs": [
    {
     "name": "stdout",
     "output_type": "stream",
     "text": [
      "Вложенный словарь: {0: {0: 0, 1: 1, 2: 4}, 1: {0: 0, 1: 1, 2: 4}, 2: {0: 0, 1: 1, 2: 4}, 3: {0: 0, 1: 1, 2: 4}, 4: {0: 0, 1: 1, 2: 4}}\n"
     ]
    }
   ],
   "source": [
    "dict4 = {i: {j: j**2 for j in range(3)} for i in range(5)}\n",
    "print(\"Вложенный словарь:\", dict4)"
   ]
  },
  {
   "cell_type": "markdown",
   "id": "6c4bc53e-e0af-4089-92a4-55aae29005c2",
   "metadata": {},
   "source": [
    "Вложенные словари позволяют организовывать данные и структурировать информацию более удобно."
   ]
  },
  {
   "cell_type": "markdown",
   "id": "34c1fe1c-00c9-4122-9e6f-2c7cd5f1ec9f",
   "metadata": {},
   "source": [
    "#### 2.11 Форматированный вывод строк\n",
    "- Существует три способа форматирования строк в Python:\n",
    "  1. Бинарная операция `%`: `'...%s...%d...' % (obj1, obj2)`.\n",
    "  2. Метод `format()`: `'...{}...{}...'.format(obj1, obj2)`.\n",
    "  3. Форматированный строковый литерал (f-строки): `f'...{x}...{y}...'`.\n",
    "\n",
    "**Приведите пример форматированного вывода с использованием синтаксиса f'...{variable=:...}', где variable – заданная переменная.**"
   ]
  },
  {
   "cell_type": "code",
   "execution_count": 142,
   "id": "fb35eed8-1f85-44ca-b8ce-9acf77e38764",
   "metadata": {},
   "outputs": [
    {
     "name": "stdout",
     "output_type": "stream",
     "text": [
      "variable1 = variable1 = 2\n"
     ]
    }
   ],
   "source": [
    "variable1 = 2\n",
    "print(f'variable1 = {variable1 = :}')"
   ]
  },
  {
   "cell_type": "markdown",
   "id": "c847a874-5a86-436f-b90e-8770a7ddf514",
   "metadata": {},
   "source": [
    "Форматированный вывод с помощью f-строк обеспечивает более читаемое представление данных.\n",
    "\n",
    "**Получите аналогичный результат с использованием бинарной операции % и строкового метода format.**"
   ]
  },
  {
   "cell_type": "code",
   "execution_count": 149,
   "id": "0c5c76bf-6873-4e7c-bb16-aee18eeb7277",
   "metadata": {},
   "outputs": [
    {
     "name": "stdout",
     "output_type": "stream",
     "text": [
      "variable1 = 2\n",
      "variable1 = 2\n"
     ]
    }
   ],
   "source": [
    "print('variable1 = %s' % variable1) # Используем бинарную операцию\n",
    "print('variable1 = {}'.format(variable1))  # Используем метод format"
   ]
  },
  {
   "cell_type": "markdown",
   "id": "dbcbb17a-1f96-456a-80f3-f42594020ae5",
   "metadata": {},
   "source": [
    "Альтернативные методы форматирования также полезны и позволяют использовать различные подходы к выводам данных.\n",
    "\n",
    "**Приведите пример форматированного вывода с использованием синтаксиса f'...{expression=:...}', где expression – заданное выражение.**"
   ]
  },
  {
   "cell_type": "code",
   "execution_count": 154,
   "id": "570b6195-3a3e-4c24-aac5-ccfabca56a38",
   "metadata": {},
   "outputs": [
    {
     "name": "stdout",
     "output_type": "stream",
     "text": [
      "Результат выражения: expression1 = 6.28318\n"
     ]
    }
   ],
   "source": [
    "expression1 = 3.14159 * 2\n",
    "print(f'Результат выражения: {expression1 = :}')"
   ]
  },
  {
   "cell_type": "markdown",
   "id": "2098cfc3-d2db-4c22-9082-9b3f2312564a",
   "metadata": {},
   "source": [
    "Этот метод позволяет удобно выводить результаты вычислений с их представлением.\n",
    "\n",
    "**Получите аналогичный результат с использованием бинарной операции % и строкового метода format.**"
   ]
  },
  {
   "cell_type": "code",
   "execution_count": 157,
   "id": "c45e917a-da0c-4858-aa6d-67cc0fe57209",
   "metadata": {},
   "outputs": [
    {
     "name": "stdout",
     "output_type": "stream",
     "text": [
      "Результат выражения: 6.28318\n",
      "Результат выражения: 6.28318\n"
     ]
    }
   ],
   "source": [
    "print('Результат выражения: %s' % expression1)  # Используем бинарную операцию\n",
    "print('Результат выражения: {}'.format(expression1))  # Используем метод format"
   ]
  },
  {
   "cell_type": "markdown",
   "id": "cb712acb-6df3-45e9-ae3a-a234b78186b5",
   "metadata": {},
   "source": [
    "Форматирование с использованием различных методов демонстрирует гибкость Python в работе с текстом."
   ]
  },
  {
   "cell_type": "markdown",
   "id": "5d86e622-635a-4d61-b523-114d8ef7282f",
   "metadata": {},
   "source": [
    "#### 2.12 Файловый объект\n",
    "Файловый объект создается с помощью функции `open(file, mode)`, где `file` — имя файла, а `mode` — режим обработки.\n",
    "Режимы обработки могут быть: `'r'` для чтения, `'w'` для записи, `'a'` для добавления и др.\n",
    "\n",
    "**Приведите пример, в котором используются следующие функции и методы для работы с файловым объектом: open, close, read, readline, readlines, write, writelines.**"
   ]
  },
  {
   "cell_type": "code",
   "execution_count": 161,
   "id": "5f2f8817-ddfa-4f2b-9c31-74b29164244c",
   "metadata": {},
   "outputs": [
    {
     "name": "stdout",
     "output_type": "stream",
     "text": [
      "Содержимое файла:\n",
      " Happiness can be found\n",
      "Line 1\n",
      "Line 2\n",
      "Line 3\n",
      "\n",
      "Первая строка: Happiness can be found\n",
      "Все строки: ['Happiness can be found\\n', 'Line 1\\n', 'Line 2\\n', 'Line 3\\n']\n"
     ]
    }
   ],
   "source": [
    "# Запись в файл\n",
    "with open('example.txt', 'w') as f:\n",
    "    f.write(\"Happiness can be found\\n\")  # Записываем строку\n",
    "    f.writelines([\"Line 1\\n\", \"Line 2\\n\", \"Line 3\\n\"])  # Записываем несколько строк\n",
    "\n",
    "# Чтение из файла\n",
    "with open('example.txt', 'r') as f:\n",
    "    content = f.read()  # Читаем все содержимое\n",
    "    print(\"Содержимое файла:\\n\", content)\n",
    "    \n",
    "    f.seek(0)  # Вернуться в начало файла\n",
    "    first_ln = f.readline()  # Читаем первую строку\n",
    "    print(\"Первая строка:\", first_ln.strip())\n",
    "\n",
    "    f.seek(0)  # Вернуться в начало файла\n",
    "    all_lns = f.readlines()  # Читаем все строки\n",
    "    print(\"Все строки:\", all_lns)"
   ]
  },
  {
   "cell_type": "markdown",
   "id": "8bb021d8-d326-4144-8678-e13a21c54061",
   "metadata": {},
   "source": [
    "Работа с файловыми объектами включает запись и чтение данных, что является важной частью обработки информации в Python."
   ]
  },
  {
   "cell_type": "markdown",
   "id": "1bbb4d25-ba89-454b-95f2-690f2d1b9f25",
   "metadata": {},
   "source": [
    "## Задание 2.3 \n",
    "\n",
    "### Фрагмент 1"
   ]
  },
  {
   "cell_type": "markdown",
   "id": "a0a666a4-2411-46c9-bb2c-63acd377ca38",
   "metadata": {},
   "source": [
    "`print('\\c \\xc6')`"
   ]
  },
  {
   "cell_type": "markdown",
   "id": "0b31f7ad-339e-4490-b9f9-ba525f720510",
   "metadata": {},
   "source": [
    "Ошибка возникает из-за \\c, которая не является правильной escape-последовательностью. Python не знает, что с ней делать, поэтому выдает предупреждение. \n",
    "\n",
    "### Фрагмент 2"
   ]
  },
  {
   "cell_type": "markdown",
   "id": "d6a9f25f-dbe9-450b-98e9-fbb0632cc18e",
   "metadata": {},
   "source": [
    "`str1[10]`"
   ]
  },
  {
   "cell_type": "markdown",
   "id": "28624da2-c8aa-4fbc-b7f0-f7ebd3e0a69d",
   "metadata": {},
   "source": [
    "Ошибка IndexError возникает, потому что индекс 10 выходит за пределы длины строки str1. В Python индексы начинаются с 0, и если строка короче 11 символов, этот индекс недоступен.\n",
    "\n",
    "### Фрагмент 3\n",
    "\n",
    "`[1] + '1'`\n",
    "\n",
    "Ошибка TypeError возникает, потому что в Python нельзя объединять список и строку напрямую.\n",
    "\n",
    "### Фрагмент 4\n",
    "\n",
    "`dict1['two']`\n",
    "\n",
    "Ошибка KeyError возникает, потому что ключ 'two' отсутствует в словаре dict1.\n",
    "\n",
    "### Фрагмент 5\n",
    "\n",
    "`t = [1,2], {1:2}, {1,2}; t[0] = 0`\n",
    "\n",
    "Ошибка TypeError возникает, потому что t является кортежем, а кортежи в Python неизменяемы.\n",
    "\n",
    "### Фрагмент 6\n",
    "\n",
    "`{1, 'str', (1,)}.add([1])`\n",
    "\n",
    "Ошибка TypeError возникает, потому что нельзя добавлять список [1] в множество.\n",
    "\n",
    "### Фрагмент 7\n",
    "\n",
    "`print(dict1.get('one'), dict1.get('three'))`\n",
    "\n",
    "`dict1['three']`\n",
    "\n",
    "Ошибка KeyError возникает, потому что вы пытаетесь получить значение по ключу 'three', который отсутствует в словаре dict1. Метод .get() возвращает None, если ключ не найден, но доступ к несуществующему ключу с помощью dict1['three'] вызывает ошибку.\n",
    "\n",
    "### Фрагмент 8\n",
    "\n",
    "`print(s, s.find('-'))`\n",
    "\n",
    "`s.index('-')`\n",
    "\n",
    "Ошибка ValueError возникает, потому что метод index() не находит подстроку '-' в строке s.\n",
    "\n",
    "### Фрагмент 9\n",
    "\n",
    "`a = 1  # создание переменной`\n",
    "\n",
    "`a, d`\n",
    "\n",
    "Ошибка NameError возникает, потому что переменная d не определена.\n",
    "\n",
    "### Фрагмент 10\n",
    "\n",
    "`print(abs(-1))`\n",
    "\n",
    "`abs = 5`\n",
    "\n",
    "`print(abs(-1))`\n",
    "\n",
    "Ошибка TypeError возникает, потому что после присвоения abs = 5, abs больше не ссылается на функцию abs(), а становится целым числом."
   ]
  },
  {
   "cell_type": "markdown",
   "id": "cea36da5-f68f-437d-ba95-daf52c4ffb99",
   "metadata": {},
   "source": [
    "# Задание 3. Ответы на контрольные вопросы из книги М. Лутца"
   ]
  },
  {
   "cell_type": "markdown",
   "id": "a21fa323-6b27-4ed8-87a3-38d3ccbec266",
   "metadata": {},
   "source": [
    "## 1. Глава 4, вопрос 6: Что такое \"полиморфизм\" и почему о нем нужно заботиться?\n",
    "\n",
    "Полиморфизм означает, что смысл операции (например, +) зависит от объектов, к которым она применяется. Это позволяет использовать один и тот же оператор для различных типов данных, что делает код более гибким и универсальным. \n",
    "\n",
    "*Примеры:*\n",
    "1. Сложение чисел"
   ]
  },
  {
   "cell_type": "code",
   "execution_count": 198,
   "id": "d06a7242-039f-432f-a460-1b1726f94265",
   "metadata": {},
   "outputs": [
    {
     "name": "stdout",
     "output_type": "stream",
     "text": [
      "100\n"
     ]
    }
   ],
   "source": [
    "a3 = 1\n",
    "b3 = 99\n",
    "result = a3 + b3\n",
    "print(result)"
   ]
  },
  {
   "cell_type": "markdown",
   "id": "962b21b2-0b29-475c-bf21-107b30819fb4",
   "metadata": {},
   "source": [
    "2. Сложение строк"
   ]
  },
  {
   "cell_type": "code",
   "execution_count": 201,
   "id": "af9f2df7-3ca5-41d4-a53d-f7a5ea5b2ffd",
   "metadata": {},
   "outputs": [
    {
     "name": "stdout",
     "output_type": "stream",
     "text": [
      "Wit beyond measure is a man’s greatest treasure.\n"
     ]
    }
   ],
   "source": [
    "str5 = \"Wit beyond measure \"\n",
    "str6 = \"is a man’s greatest treasure.\"\n",
    "result = str5 + str6\n",
    "print(result)"
   ]
  },
  {
   "cell_type": "markdown",
   "id": "03bfe960-d735-40fd-8916-aa9702872434",
   "metadata": {},
   "source": [
    "3. Сложение списков"
   ]
  },
  {
   "cell_type": "code",
   "execution_count": 204,
   "id": "4affc775-e4c9-4985-815a-82958bb03bfd",
   "metadata": {},
   "outputs": [
    {
     "name": "stdout",
     "output_type": "stream",
     "text": [
      "[1, 2, 3, 4, 5, 6]\n"
     ]
    }
   ],
   "source": [
    "list01 = [1, 2, 3]\n",
    "list02 = [4, 5, 6]\n",
    "result01 = list01 + list02\n",
    "print(result01)"
   ]
  },
  {
   "cell_type": "markdown",
   "id": "e8f31f74-210c-4a95-9edd-13bc26dc7eab",
   "metadata": {},
   "source": [
    "## 2. Глава 5, вопрос 7: Как можно преобразовывать целое число в число с плавающей точкой?"
   ]
  },
  {
   "cell_type": "markdown",
   "id": "b9405b9e-44ea-4c8a-a901-5899ce87e257",
   "metadata": {},
   "source": [
    "Для преобразования целого числа в число с плавающей точкой в Python можно использовать функцию float(). Также смешивание целых чисел и чисел с плавающей точкой в выражениях приводит к автоматическому преобразованию целых чисел в числа с плавающей точкой. Кроме того, операция деления (/) в Python 3 всегда возвращает число с плавающей точкой, даже если оба операнда являются целыми.\n",
    "\n",
    "*Примеры:*\n",
    "1. Использование функции float()"
   ]
  },
  {
   "cell_type": "code",
   "execution_count": 214,
   "id": "ff0fb612-6581-4c7d-a1ab-0d04951030e7",
   "metadata": {},
   "outputs": [
    {
     "name": "stdout",
     "output_type": "stream",
     "text": [
      "8.0\n"
     ]
    }
   ],
   "source": [
    "integer_val01 = 8\n",
    "float_val01 = float(integer_val01)\n",
    "print(float_val01)"
   ]
  },
  {
   "cell_type": "markdown",
   "id": "e9c0fe60-51f1-40f7-9b69-454af3217cec",
   "metadata": {},
   "source": [
    "2. Смешивание типов в выражении"
   ]
  },
  {
   "cell_type": "code",
   "execution_count": 217,
   "id": "9234fc19-d26e-4d9e-90e9-c050a1328dd2",
   "metadata": {},
   "outputs": [
    {
     "name": "stdout",
     "output_type": "stream",
     "text": [
      "10.99\n"
     ]
    }
   ],
   "source": [
    "a4 = 8\n",
    "b4 = 2.99\n",
    "result04 = a4 + b4\n",
    "print(result04)"
   ]
  },
  {
   "cell_type": "markdown",
   "id": "9b8276f6-703a-42c4-a1b4-5f6ede79a307",
   "metadata": {},
   "source": [
    "3. Операция деления"
   ]
  },
  {
   "cell_type": "code",
   "execution_count": 220,
   "id": "2e8dd7ee-8cab-4ca8-8194-dd6c305995f8",
   "metadata": {},
   "outputs": [
    {
     "name": "stdout",
     "output_type": "stream",
     "text": [
      "142.85714285714286\n"
     ]
    }
   ],
   "source": [
    "x9 = 1000\n",
    "y9 = 7\n",
    "result = x9 / y9\n",
    "print(result)"
   ]
  },
  {
   "cell_type": "markdown",
   "id": "32acf2c6-fa6f-4f11-bc27-23a40c3d69a9",
   "metadata": {},
   "source": [
    "Применение float() и автоматическое преобразование типов делает Python гибким в работе с числовыми данными, что упрощает математические вычисления и работу с различными типами данных.\n",
    "\n",
    "## 3. Глава 6, вопрос 2: Изменяют ли три оператора значение, выводимое для A?"
   ]
  },
  {
   "cell_type": "code",
   "execution_count": 228,
   "id": "8af557de-9ce2-4dc7-bc58-8b4ff7a5532f",
   "metadata": {},
   "outputs": [],
   "source": [
    "A = [\"spam\"]\n",
    "B = A\n",
    "B[0] = \"shrubbery\""
   ]
  },
  {
   "cell_type": "markdown",
   "id": "afc9868e-e10d-4de9-88c7-b54b4dde69b1",
   "metadata": {},
   "source": [
    "Да, теперь для A выводится [\"shrubbery\"]. A и B ссылаются на один и тот же список.\n",
    "Когда мы изменяем первый элемент списка через B, это изменение также видно в A, потому что обе переменные указывают на один и тот же объект.\n",
    "\n",
    "*Пример:*"
   ]
  },
  {
   "cell_type": "code",
   "execution_count": 242,
   "id": "0b22956b-c603-4ffe-a929-0e16ff742b9b",
   "metadata": {},
   "outputs": [
    {
     "name": "stdout",
     "output_type": "stream",
     "text": [
      "['shrubbery']\n",
      "['shrubbery']\n"
     ]
    }
   ],
   "source": [
    "print(B)\n",
    "print(A)"
   ]
  },
  {
   "cell_type": "markdown",
   "id": "d89cf2fd-1eb9-4222-8969-c394e99ebaf2",
   "metadata": {},
   "source": [
    "Изменение происходит не в самих переменных, а в списке, на который они ссылаются. Поэтому, когда мы изменяем его через B, это видно и в A."
   ]
  },
  {
   "cell_type": "markdown",
   "id": "ea1f7da2-2378-4e65-a83d-2332532767b9",
   "metadata": {},
   "source": [
    "## 4. Глава 7, вопрос 6: Сколько символов в строке \"a\\nb\\x0f\\000d\"?\n",
    "\n",
    "В строке \"a\\nb\\x0f\\000d\" содержится 6 символов: a, \\n (символ новой строки), b, \\x0f, \\000, d.\n",
    "\n",
    "*Пример:*"
   ]
  },
  {
   "cell_type": "code",
   "execution_count": 252,
   "id": "dc6f783d-8059-42fe-aaad-c5c56ca73e03",
   "metadata": {},
   "outputs": [
    {
     "name": "stdout",
     "output_type": "stream",
     "text": [
      "Длина строки: 6\n",
      "Символ: a, Код: 97\n",
      "Символ: \n",
      ", Код: 10\n",
      "Символ: b, Код: 98\n",
      "Символ: \u000f, Код: 15\n",
      "Символ: \u0000, Код: 0\n",
      "Символ: d, Код: 100\n"
     ]
    }
   ],
   "source": [
    "string01 = \"a\\nb\\x0f\\000d\"\n",
    "\n",
    "length01 = len(string01)\n",
    "print(\"Длина строки:\", length01)\n",
    "\n",
    "for char in string01:\n",
    "    print(f\"Символ: {char}, Код: {ord(char)}\")"
   ]
  },
  {
   "cell_type": "markdown",
   "id": "b95178b5-71a4-4aa7-8e41-3c39482b848b",
   "metadata": {},
   "source": [
    "Используя функцию len(), мы можем подтвердить, что в строке 6 символов. Функция ord() показывает значения кодов для каждого символа, что позволяет увидеть, как интерпретируются управляющие последовательности.\n",
    "\n",
    "## 5. Глава 8, вопрос 3: Назовите четыре операции, которые изменяют списковый объект на месте в Python.\n",
    "\n",
    "1. append() — добавляет элемент в конец списка:"
   ]
  },
  {
   "cell_type": "code",
   "execution_count": 270,
   "id": "a7ae1c99-1b6c-47f7-85b3-8320980e238a",
   "metadata": {},
   "outputs": [
    {
     "name": "stdout",
     "output_type": "stream",
     "text": [
      "[1, 2, 3, 9]\n"
     ]
    }
   ],
   "source": [
    "list08 = [1, 2, 3]\n",
    "list08.append(9)\n",
    "print(list08)"
   ]
  },
  {
   "cell_type": "markdown",
   "id": "1a99e059-4cd2-4ec2-819b-003162798bfc",
   "metadata": {},
   "source": [
    "2. extend() — добавляет элементы из другого списка в конец текущего списка:"
   ]
  },
  {
   "cell_type": "code",
   "execution_count": 272,
   "id": "56217b2a-3df9-4277-81f1-2faa33db1c46",
   "metadata": {},
   "outputs": [
    {
     "name": "stdout",
     "output_type": "stream",
     "text": [
      "[1, 2, 3, 9, 6, 5]\n"
     ]
    }
   ],
   "source": [
    "list08.extend([6, 5])\n",
    "print(list08)"
   ]
  },
  {
   "cell_type": "markdown",
   "id": "475ad749-e779-44c9-b1ba-69096b41236b",
   "metadata": {},
   "source": [
    "3. sort() — сортирует элементы списка на месте:"
   ]
  },
  {
   "cell_type": "code",
   "execution_count": 274,
   "id": "c7166721-a0ae-4802-9943-ebb03693b0e4",
   "metadata": {},
   "outputs": [
    {
     "name": "stdout",
     "output_type": "stream",
     "text": [
      "[1, 2, 3, 5, 6, 9]\n"
     ]
    }
   ],
   "source": [
    "list08.sort()\n",
    "print(list08)"
   ]
  },
  {
   "cell_type": "markdown",
   "id": "f3af4042-cc09-412e-8c71-50301b50ac48",
   "metadata": {},
   "source": [
    "4. reverse() — разворачивает список на месте:"
   ]
  },
  {
   "cell_type": "code",
   "execution_count": 277,
   "id": "8684a7e8-f417-401e-a1f4-1a9cb3fdc671",
   "metadata": {},
   "outputs": [
    {
     "name": "stdout",
     "output_type": "stream",
     "text": [
      "[9, 6, 5, 3, 2, 1]\n"
     ]
    }
   ],
   "source": [
    "list08.reverse()\n",
    "print(list08)"
   ]
  },
  {
   "cell_type": "markdown",
   "id": "b1d864f9-d436-44ee-a6d7-11e9abe3e4c1",
   "metadata": {},
   "source": [
    "Эти методы изменяют сам объект списка, а не создают новый."
   ]
  },
  {
   "cell_type": "markdown",
   "id": "63a31d3b-38ca-44f7-acae-26b1dcbd9c83",
   "metadata": {},
   "source": [
    "## 6. Глава 9, вопрос 6: Когда в Python объект считается истинным?\n",
    "\n",
    "Объект в Python считается истинным, если он соответствует следующим условиям:\n",
    "- Не нулевое число: Любое число, кроме 0 (например, 1, -1, 3.14), является истинным.\n",
    "- Непустая коллекция: Это могут быть непустые списки, кортежи, множества, строки или словари (например, [1, 2], 'hello', {1: 'a'}).\n",
    "- Встроенные значения: Значения True и False также являются истинными и ложными соответственно, где True эквивалентно 1, а False эквивалентно 0.\n",
    "  \n",
    "*Примеры:*"
   ]
  },
  {
   "cell_type": "code",
   "execution_count": 283,
   "id": "5b4e9a78-9817-44aa-9d7a-fbd58122ba77",
   "metadata": {},
   "outputs": [
    {
     "name": "stdout",
     "output_type": "stream",
     "text": [
      "True\n",
      "True\n",
      "True\n",
      "True\n",
      "True\n",
      "True\n",
      "False\n",
      "False\n",
      "False\n",
      "False\n",
      "False\n",
      "False\n"
     ]
    }
   ],
   "source": [
    "# Истинные объекты\n",
    "print(bool(1))\n",
    "print(bool(-1))\n",
    "print(bool(3.14))\n",
    "print(bool(\"hello\"))\n",
    "print(bool([1, 2]))\n",
    "print(bool({'a': 1}))\n",
    "\n",
    "# Ложные объекты\n",
    "print(bool(0))\n",
    "print(bool(0.0))  \n",
    "print(bool(\"\"))   \n",
    "print(bool([]))   \n",
    "print(bool({})) \n",
    "print(bool(None)) "
   ]
  },
  {
   "cell_type": "markdown",
   "id": "c449410c-bc07-4fc9-aac7-1e68216de63d",
   "metadata": {},
   "source": [
    "Понимание истинности и ложности объектов в Python позволяет более эффективно управлять логическими операциями и условиями в коде."
   ]
  },
  {
   "cell_type": "code",
   "execution_count": null,
   "id": "3e36c400-1772-414b-81a5-5e05421921e0",
   "metadata": {},
   "outputs": [],
   "source": []
  }
 ],
 "metadata": {
  "kernelspec": {
   "display_name": "Python [conda env:base] *",
   "language": "python",
   "name": "conda-base-py"
  },
  "language_info": {
   "codemirror_mode": {
    "name": "ipython",
    "version": 3
   },
   "file_extension": ".py",
   "mimetype": "text/x-python",
   "name": "python",
   "nbconvert_exporter": "python",
   "pygments_lexer": "ipython3",
   "version": "3.12.7"
  }
 },
 "nbformat": 4,
 "nbformat_minor": 5
}
