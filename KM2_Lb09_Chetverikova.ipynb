{
 "cells": [
  {
   "cell_type": "markdown",
   "id": "ee1f5ed7",
   "metadata": {},
   "source": [
    "# Лабораторная работа 9. Создание текстового файла большого объема с помощью генераторной функции"
   ]
  },
  {
   "cell_type": "markdown",
   "id": "a5f1629d",
   "metadata": {},
   "source": [
    "Четверикова Вера Борисовна, 26.05.2025"
   ]
  },
  {
   "cell_type": "markdown",
   "id": "03b36705",
   "metadata": {},
   "source": [
    "## Задание 8.1. Центрированный обход бинарного дерева поиска"
   ]
  },
  {
   "cell_type": "code",
   "execution_count": 1,
   "id": "64ece7e4",
   "metadata": {},
   "outputs": [],
   "source": [
    "from random import randint"
   ]
  },
  {
   "cell_type": "code",
   "execution_count": 2,
   "id": "1324a58a",
   "metadata": {},
   "outputs": [
    {
     "name": "stdout",
     "output_type": "stream",
     "text": [
      "\u001b[1;31mSignature:\u001b[0m \u001b[0mrandint\u001b[0m\u001b[1;33m(\u001b[0m\u001b[0ma\u001b[0m\u001b[1;33m,\u001b[0m \u001b[0mb\u001b[0m\u001b[1;33m)\u001b[0m\u001b[1;33m\u001b[0m\u001b[1;33m\u001b[0m\u001b[0m\n",
      "\u001b[1;31mDocstring:\u001b[0m\n",
      "Return random integer in range [a, b], including both end points.\n",
      "        \n",
      "\u001b[1;31mFile:\u001b[0m      c:\\users\\dell\\anaconda3\\lib\\random.py\n",
      "\u001b[1;31mType:\u001b[0m      method"
     ]
    }
   ],
   "source": [
    "?randint"
   ]
  },
  {
   "cell_type": "code",
   "execution_count": 3,
   "id": "fc4d0069",
   "metadata": {},
   "outputs": [
    {
     "data": {
      "text/plain": [
       "'Код символа: 110, символ: n'"
      ]
     },
     "execution_count": 3,
     "metadata": {},
     "output_type": "execute_result"
    }
   ],
   "source": [
    "latin_code = (ord('a'), ord('z')) # соответствует type_symbols = 'latin'\n",
    "f'Код символа: {(c:=randint(*latin_code))}, символ: {chr(c)}'"
   ]
  },
  {
   "cell_type": "code",
   "execution_count": 4,
   "id": "1e9b06f7",
   "metadata": {},
   "outputs": [],
   "source": [
    "from time import process_time"
   ]
  },
  {
   "cell_type": "code",
   "execution_count": 5,
   "id": "f219f2f0",
   "metadata": {},
   "outputs": [
    {
     "name": "stdout",
     "output_type": "stream",
     "text": [
      "\u001b[1;31mDocstring:\u001b[0m\n",
      "process_time() -> float\n",
      "\n",
      "Process time for profiling: sum of the kernel and user-space CPU time.\n",
      "\u001b[1;31mType:\u001b[0m      builtin_function_or_method"
     ]
    }
   ],
   "source": [
    "?process_time"
   ]
  },
  {
   "cell_type": "code",
   "execution_count": 6,
   "id": "165c64e8",
   "metadata": {},
   "outputs": [
    {
     "name": "stdout",
     "output_type": "stream",
     "text": [
      "0.3125 секунд\n"
     ]
    }
   ],
   "source": [
    "start = process_time()\n",
    "[x**2 for x in range(1_000_000)]\n",
    "end = process_time()\n",
    "print(f'{end - start} секунд')"
   ]
  },
  {
   "cell_type": "markdown",
   "id": "a4c6eefb",
   "metadata": {},
   "source": [
    "## Задание 9.1. Запись данных в текстовый файл"
   ]
  },
  {
   "cell_type": "code",
   "execution_count": 7,
   "id": "4063a7e2",
   "metadata": {},
   "outputs": [],
   "source": [
    "file_name = 'test.txt'\n",
    "f = open(file_name, 'w')"
   ]
  },
  {
   "cell_type": "code",
   "execution_count": 8,
   "id": "98e46995",
   "metadata": {},
   "outputs": [
    {
     "data": {
      "text/plain": [
       "['t\\n', 'e\\n', 's\\n', 't\\n']"
      ]
     },
     "execution_count": 8,
     "metadata": {},
     "output_type": "execute_result"
    }
   ],
   "source": [
    "lines_list = [f'{x}\\n' for x in 'test']\n",
    "lines_list"
   ]
  },
  {
   "cell_type": "code",
   "execution_count": 9,
   "id": "6fd074ff",
   "metadata": {},
   "outputs": [],
   "source": [
    "f.writelines(lines_list)"
   ]
  },
  {
   "cell_type": "code",
   "execution_count": 10,
   "id": "2ba3c7f5",
   "metadata": {},
   "outputs": [],
   "source": [
    "f.close()"
   ]
  },
  {
   "cell_type": "code",
   "execution_count": 11,
   "id": "1128cef3",
   "metadata": {},
   "outputs": [
    {
     "name": "stdout",
     "output_type": "stream",
     "text": [
      "t\n",
      "e\n",
      "s\n",
      "t\n"
     ]
    }
   ],
   "source": [
    "with open(file_name,'r') as f:\n",
    "    for line in f:\n",
    "        print(line, end='')"
   ]
  },
  {
   "cell_type": "code",
   "execution_count": 12,
   "id": "6db2b6f7",
   "metadata": {},
   "outputs": [],
   "source": [
    "lines_gen_expr = (f'{x}\\n' for x in range(10**6))\n",
    "\n",
    "def lines_gen_fun(number_lines=10**6):\n",
    "    yield from (f'{x}\\n' for x in range(number_lines))\n",
    "\n",
    "with open(file_name,'w') as f:\n",
    "    f.writelines(lines_gen_expr)\n",
    "    f.writelines(lines_gen_fun())\n"
   ]
  },
  {
   "cell_type": "code",
   "execution_count": 13,
   "id": "607f0e16",
   "metadata": {},
   "outputs": [
    {
     "name": "stdout",
     "output_type": "stream",
     "text": [
      "6.569757461547852 Mb\n"
     ]
    }
   ],
   "source": [
    "def lines_gen_fun(number_lines = 10**6):\n",
    "    file_size = 0\n",
    "    for x in range(number_lines):\n",
    "        line = f'{x}\\n'\n",
    "        yield line\n",
    "        file_size += len(line)\n",
    "    print(f'{file_size/1024**2} Mb')\n",
    "\n",
    "with open(file_name,'w') as f:\n",
    "    f.writelines(lines_gen_fun())\n"
   ]
  },
  {
   "cell_type": "code",
   "execution_count": 14,
   "id": "8addd2dc",
   "metadata": {},
   "outputs": [
    {
     "data": {
      "text/plain": [
       "(1, 1, 1, 2)"
      ]
     },
     "execution_count": 14,
     "metadata": {},
     "output_type": "execute_result"
    }
   ],
   "source": [
    "len('f'), len('f'.encode('utf8')), len('ц'), len('ц'.encode('utf8'))"
   ]
  },
  {
   "cell_type": "code",
   "execution_count": 15,
   "id": "6e2712ad",
   "metadata": {},
   "outputs": [
    {
     "name": "stdout",
     "output_type": "stream",
     "text": [
      "6.569757461547852 Mb\n",
      "0.984375 секунд\n"
     ]
    }
   ],
   "source": [
    "with open(file_name,'w') as f:\n",
    "    start = process_time()\n",
    "    f.writelines(lines_gen_fun()) \n",
    "    end = process_time()\n",
    "    print(end - start, 'секунд')"
   ]
  },
  {
   "cell_type": "markdown",
   "id": "4a3c7f0b",
   "metadata": {},
   "source": [
    "<span style=\"color:red;\">Напишите</span> комментарии для каждой строки кода функции `lines_gen_fun`."
   ]
  },
  {
   "cell_type": "code",
   "execution_count": 16,
   "id": "68954055",
   "metadata": {},
   "outputs": [],
   "source": [
    "def lines_gen_fun(number_lines=10**6, status=False):\n",
    "    # отслеживаем общий размер файла в байтах\n",
    "    file_size = 0\n",
    "    \n",
    "    # цикл по количеству строк\n",
    "    for x in range(number_lines):\n",
    "        # создаем строку с текущим числом и переносом строки\n",
    "        line = f'{x}\\n'\n",
    "        \n",
    "        # возвращаем строку\n",
    "        yield line\n",
    "        \n",
    "        # увеличиваем размер файла на длину строки\n",
    "        file_size += len(line)\n",
    "        \n",
    "        # если нужно отображать статус\n",
    "        if status:\n",
    "            # вычисляем процент выполнения\n",
    "            status_number = x / number_lines * 100\n",
    "            \n",
    "            # выводим процент, перезаписывая текущую строку\n",
    "            print(f'\\r{int(status_number)}%', end='', flush=True)\n",
    "    \n",
    "    # выводим общий размер файла в мегабайтах\n",
    "    print(f'\\n {file_size / 1024**2} Mb')"
   ]
  },
  {
   "cell_type": "code",
   "execution_count": 17,
   "id": "0e55d0f4",
   "metadata": {},
   "outputs": [
    {
     "name": "stdout",
     "output_type": "stream",
     "text": [
      "99%\n",
      " 0.013246536254882812 Mb\n",
      "2.28125 секунд\n"
     ]
    }
   ],
   "source": [
    "with open(file_name,'w') as f:\n",
    "    start = process_time()\n",
    "    f.writelines(lines_gen_fun(3*10**3, status=True))\n",
    "    end = process_time()\n",
    "    print(f'{end - start} секунд')"
   ]
  },
  {
   "cell_type": "markdown",
   "id": "bbc2f5b0",
   "metadata": {},
   "source": [
    "## Задание 9.2. Генерация строк"
   ]
  },
  {
   "cell_type": "code",
   "execution_count": 18,
   "id": "31d3660f",
   "metadata": {},
   "outputs": [],
   "source": [
    "latin_code = (ord('a'), ord('z')) # соответствует type_symbols = 'latin'\n",
    "number_words = (10, 20)\n",
    "number_symbols = (5, 10)"
   ]
  },
  {
   "cell_type": "code",
   "execution_count": 19,
   "id": "8df27743",
   "metadata": {},
   "outputs": [
    {
     "data": {
      "text/plain": [
       "'ykeaksvxzt'"
      ]
     },
     "execution_count": 19,
     "metadata": {},
     "output_type": "execute_result"
    }
   ],
   "source": [
    "len_word = randint(*number_symbols)\n",
    "word = ''.join([chr(randint(*latin_code)) for i in range(len_word)])\n",
    "word"
   ]
  },
  {
   "cell_type": "markdown",
   "id": "46e72c62",
   "metadata": {},
   "source": [
    "1. <span style=\"color:red;\">Напишите код</span> для генерации строки со случайным количеством слов,\n",
    "случайной длиной слова и случайным набором символов в слове для трех\n",
    "множеств смволов: прописные латинские символы, цифровые символы,\n",
    "прописные кириллические символы. <span style=\"color:red;\">Протестируйте</span> написанный код.\n",
    "2. <span style=\"color:red;\">Напишите</span> генераторную функцию ```lines_gen_fun_v2(file_size,\n",
    "type_symbols, number_words, number_symbols)``` для генерации строк,\n",
    "суммарный размер которых в мегабайтах равен `file_size`.\n",
    "3. <span style=\"color:red;\">Напишите</span>  комментарии для каждой строки кода функции `lines_gen_fun_v2`.\n",
    "4. <span style=\"color:red;\">Напишите</span> строки документации для функции `lines_gen_fun_v2`.\n",
    "5. <span style=\"color:red;\">Протестируйте</span> функцию `lines_gen_fun_v2` для различных значений\n",
    "аргументов в предположении, что корректность вводимых данных\n",
    "гарантируется"
   ]
  },
  {
   "cell_type": "markdown",
   "id": "ec08f13b",
   "metadata": {},
   "source": [
    "1:"
   ]
  },
  {
   "cell_type": "code",
   "execution_count": 20,
   "id": "c47443b5",
   "metadata": {},
   "outputs": [
    {
     "name": "stdout",
     "output_type": "stream",
     "text": [
      "BPYK ОПНУ\n",
      "СОП СЪГЩФО\n",
      "ЁЯЫМУР 384 766100 46196 62227 25552 9056640109 950\n",
      "HOJROCKVI 61847114 JLOHR EVROZILE ЖМФЫЖДРБ 7626303\n",
      "ЭЁТШЫЭ ЛФПЛЕ 071 ЫГЬЖВТАВ ХРЭРС ЁЪОДЭЪЛН\n"
     ]
    }
   ],
   "source": [
    "import random\n",
    "import string\n",
    "\n",
    "def generate_random_string():\n",
    "    # Определяем множества символов\n",
    "    uppercase_latin = string.ascii_uppercase\n",
    "    digits = string.digits\n",
    "    uppercase_cyrillic = 'АБВГДЕЁЖЗИЙКЛМНОПРСТУФХЦЧШЩЪЫЬЭЮЯ'\n",
    "    \n",
    "    # Случайный выбор количества слов (например, от 1 до 10)\n",
    "    number_words = random.randint(1, 10)\n",
    "    \n",
    "    # Список для хранения слов\n",
    "    words = []\n",
    "    \n",
    "    for _ in range(number_words):\n",
    "        # Случайная длина слова \n",
    "        length = random.randint(3, 10)\n",
    "        \n",
    "        # Случайный выбор набора символов\n",
    "        symbol_set = random.choice([uppercase_latin, digits, uppercase_cyrillic])\n",
    "        \n",
    "        # Генерация случайного слова\n",
    "        word = ''.join(random.choices(symbol_set, k=length))\n",
    "        \n",
    "        # Добавление слова в список\n",
    "        words.append(word)\n",
    "    \n",
    "    # Объединение слов в строку с пробелами\n",
    "    random_string = ' '.join(words)\n",
    "    return random_string\n",
    "\n",
    "# Тестирование функции\n",
    "if __name__ == \"__main__\":\n",
    "    # Генерируем и выводим 5 случайных строк\n",
    "    for _ in range(5):\n",
    "        print(generate_random_string())"
   ]
  },
  {
   "cell_type": "markdown",
   "id": "759e91e9",
   "metadata": {},
   "source": [
    "2, 3, 4:"
   ]
  },
  {
   "cell_type": "code",
   "execution_count": 21,
   "id": "0b405fca",
   "metadata": {},
   "outputs": [],
   "source": [
    "def lines_gen_fun_v2(file_size, type_symbols, number_words, number_symbols):\n",
    "    \"\"\"\n",
    "    Генераторная функция для создания строк с заданными параметрами.\n",
    "\n",
    "    :param file_size: Целевой размер файла в мегабайтах (float)\n",
    "    :param type_symbols: Тип символов ('latin', 'digits', 'cyrillic')\n",
    "    :param number_words: Количество слов в строке (int)\n",
    "    :param number_symbols: Количество символов в слове (int)\n",
    "    :yield: Строка с заданными параметрами\n",
    "    \"\"\"\n",
    "    # Преобразуем размер файла в байты\n",
    "    target_size = file_size * 1024 * 1024\n",
    "    \n",
    "    # Определяем множество символов в зависимости от типа\n",
    "    if type_symbols == 'latin':\n",
    "        symbol_set = string.ascii_uppercase\n",
    "    elif type_symbols == 'digits':\n",
    "        symbol_set = string.digits\n",
    "    elif type_symbols == 'cyrillic':\n",
    "        symbol_set = 'АБВГДЕЁЖЗИЙКЛМНОПРСТУФХЦЧШЩЪЫЬЭЮЯ'\n",
    "    else:\n",
    "        raise ValueError(\"Неверный тип символов\")\n",
    "    \n",
    "    # Инициализация переменной для отслеживания размера\n",
    "    current_size = 0\n",
    "    \n",
    "    while True:\n",
    "        # Генерация строки\n",
    "        line = ' '.join([''.join(random.choices(symbol_set, k=number_symbols)) for _ in range(number_words)])\n",
    "        \n",
    "        # Вычисление размера строки в байтах\n",
    "        line_size = len(line.encode('utf-8'))\n",
    "        \n",
    "        # Проверка, не превышает ли размер целевого размера\n",
    "        if current_size + line_size > target_size:\n",
    "            return\n",
    "        \n",
    "        # Возврат строки\n",
    "        yield line\n",
    "        \n",
    "        # Увеличение текущего размера\n",
    "        current_size += line_size"
   ]
  },
  {
   "cell_type": "markdown",
   "id": "8dc23d05",
   "metadata": {},
   "source": [
    "5:"
   ]
  },
  {
   "cell_type": "code",
   "execution_count": 23,
   "id": "30a5364b",
   "metadata": {},
   "outputs": [
    {
     "name": "stdout",
     "output_type": "stream",
     "text": [
      "ЭУЁУЕЩЕГ НГЫДЖЮЕЬ ШКЧЕДЦЁГ ЛРЙАГЮФБ ГОЮЫЯГЩП\n",
      "ТХБЁГХАГ ЛАГЁЮЪНЛ ТЬОМАЖГУ ЗЁБХЁВВО ЁУВЫМЪЯО\n",
      "ПВАХЭЪЫЕ ВЦЁГЫРЕИ БЕМУТВАИ ХПЧЁБВРИ ЮЭИЫТВФУ\n",
      "ЕХПЩИПЗР ДГШЖЦКЕП ФХЪЮГЖГЕ ЖВЕНРОЬЙ НАИЖЕСЦК\n",
      "ЖЬЖАЬЙЯШ ЫКОЪВИЬЙ ЖЗЧЬЭЪЁД ТОГЯЧОМЩ ШКУЙЁФАЕ\n"
     ]
    }
   ],
   "source": [
    "# Тестирование функции\n",
    "if __name__ == \"__main__\":\n",
    "    file_size = 1  # 1 Мб\n",
    "    type_symbols = 'cyrillic'\n",
    "    number_words = 5\n",
    "    number_symbols = 8\n",
    "    \n",
    "    # Создание генератора\n",
    "    generator = lines_gen_fun_v2(file_size, type_symbols, number_words, number_symbols)\n",
    "    \n",
    "    # Генерация и вывод 5 строк\n",
    "    for _ in range(5):\n",
    "        print(next(generator))"
   ]
  },
  {
   "cell_type": "markdown",
   "id": "982daa55",
   "metadata": {},
   "source": [
    "## Задание 9.3. Запись сгенерированных строк в текстовый файл"
   ]
  },
  {
   "cell_type": "markdown",
   "id": "0b44d384",
   "metadata": {},
   "source": [
    "1. <span style=\"color:red;\">Напишите</span> результирующую генераторную функцию\n",
    "\n",
    "```\n",
    "file_gen(file_name: str,\n",
    "    file_size: int,\n",
    "    type_symbols: str='latin',\n",
    "    number_words: (int,int)=(10,20),\n",
    "    number_symbols: (int,int)=(5,10))"
   ]
  },
  {
   "cell_type": "markdown",
   "id": "6fddfcac",
   "metadata": {},
   "source": [
    "Функция `file_gen` должна использовать функцию `lines_gen_fun_v2` из Задания\n",
    "9.2.\n",
    "Функция `file_gen` должна выводить на экран:\n",
    "- процент записанных данных в процессе выполнения функции,\n",
    "- фактический размер записанных данных в мегабайтах,\n",
    "- время для выполнения кода функции."
   ]
  },
  {
   "cell_type": "markdown",
   "id": "e37a7a22",
   "metadata": {},
   "source": [
    "2. <span style=\"color:red;\">Напишите</span> комментарии для каждой строки кода функции `file_gen`.\n",
    "\n",
    "3. <span style=\"color:red;\">Напишите</span> строки документации для функции `file_gen`.\n",
    "\n",
    "4. <span style=\"color:red;\">Протестируйте</span> функцию `file_gen` для различных значений аргументов в\n",
    "предположении, что корректность вводимых данных гарантируется."
   ]
  },
  {
   "cell_type": "code",
   "execution_count": 27,
   "id": "5c476611",
   "metadata": {},
   "outputs": [],
   "source": [
    "import random\n",
    "import string\n",
    "import time\n",
    "\n",
    "def file_gen(file_name: str,\n",
    "            file_size: int,\n",
    "            type_symbols: str = 'latin',\n",
    "            number_words: tuple[int, int] = (10, 20),\n",
    "            number_symbols: tuple[int, int] = (5, 10)):\n",
    "    \"\"\"\n",
    "    Генераторная функция для создания строк с заданными параметрами и записи их в файл.\n",
    "\n",
    "    :param file_name: Имя файла для записи (str)\n",
    "    :param file_size: Целевой размер файла в мегабайтах (int)\n",
    "    :param type_symbols: Тип символов ('latin', 'digits', 'cyrillic') (str)\n",
    "    :param number_words: Диапазон количества слов в строке (tuple[int, int])\n",
    "    :param number_symbols: Диапазон количества символов в слове (tuple[int, int])\n",
    "    \"\"\"\n",
    "    target_size = file_size * 1024 * 1024  # Переводим размер файла в байты\n",
    "    current_size = 0  # Текущий размер файла в байтах\n",
    "    start_time = time.time()  # Засекаем время начала выполнения функции\n",
    "\n",
    "    # Определяем множество символов в зависимости от типа\n",
    "    if type_symbols == 'latin':\n",
    "        symbol_set = string.ascii_uppercase\n",
    "    elif type_symbols == 'digits':\n",
    "        symbol_set = string.digits\n",
    "    elif type_symbols == 'cyrillic':\n",
    "        symbol_set = 'АБВГДЕЁЖЗИЙКЛМНОПРСТУФХЦЧШЩЪЫЬЭЮЯ'\n",
    "    else:\n",
    "        raise ValueError(\"Неверный тип символов\")\n",
    "\n",
    "    with open(file_name, 'w') as file:\n",
    "        while current_size < target_size:\n",
    "            # Генерируем случайное количество слов и символов в слове\n",
    "            words_count = random.randint(*number_words)\n",
    "            symbols_count = random.randint(*number_symbols)\n",
    "            \n",
    "            # Генерируем строку\n",
    "            line = ' '.join([''.join(random.choices(symbol_set, k=symbols_count)) for _ in range(words_count)])\n",
    "            \n",
    "            # Записываем строку в файл\n",
    "            file.write(line + '\\n')\n",
    "            \n",
    "            # Увеличиваем текущий размер файла\n",
    "            current_size += len(line.encode('utf-8'))\n",
    "            \n",
    "            # Выводим процент записанных данных\n",
    "            percent = (current_size / target_size) * 100\n",
    "            print(f'\\r{int(percent)}%', end='', flush=True)\n",
    "    \n",
    "    # Выводим фактический размер записанных данных и время выполнения\n",
    "    actual_size = current_size / 1024 / 1024\n",
    "    elapsed_time = time.time() - start_time\n",
    "    print(f'\\n {actual_size:.2f} Mb')\n",
    "    print(f' Время выполнения: {elapsed_time:.2f} сек')"
   ]
  },
  {
   "cell_type": "code",
   "execution_count": 28,
   "id": "19a576aa",
   "metadata": {},
   "outputs": [
    {
     "name": "stdout",
     "output_type": "stream",
     "text": [
      "100%\n",
      " 1.00 Mb\n",
      " Время выполнения: 12.31 сек\n"
     ]
    }
   ],
   "source": [
    "# Тестирование функции\n",
    "if __name__ == \"__main__\":\n",
    "    file_name = 'output.txt'\n",
    "    file_size = 1  # 1 Мб\n",
    "    type_symbols = 'cyrillic'\n",
    "    number_words = (5, 10)\n",
    "    number_symbols = (3, 8)\n",
    "    \n",
    "    file_gen(file_name, file_size, type_symbols, number_words, number_symbols)"
   ]
  },
  {
   "cell_type": "code",
   "execution_count": null,
   "id": "0eab5b80",
   "metadata": {},
   "outputs": [],
   "source": []
  }
 ],
 "metadata": {
  "kernelspec": {
   "display_name": "base",
   "language": "python",
   "name": "python3"
  },
  "language_info": {
   "codemirror_mode": {
    "name": "ipython",
    "version": 3
   },
   "file_extension": ".py",
   "mimetype": "text/x-python",
   "name": "python",
   "nbconvert_exporter": "python",
   "pygments_lexer": "ipython3",
   "version": "3.12.7"
  }
 },
 "nbformat": 4,
 "nbformat_minor": 5
}
