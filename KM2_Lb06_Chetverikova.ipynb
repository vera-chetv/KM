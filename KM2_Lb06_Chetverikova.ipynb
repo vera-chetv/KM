{
 "cells": [
  {
   "cell_type": "markdown",
   "id": "1d1b00fd",
   "metadata": {},
   "source": [
    "# Лабораторная работа 6. Выравнивание списка, состоящего из итерируемых объектов, на основе рекурсии"
   ]
  },
  {
   "cell_type": "markdown",
   "id": "5367db0d",
   "metadata": {},
   "source": [
    "Четверикова Вера Борисовна, 27.04.2025"
   ]
  },
  {
   "cell_type": "markdown",
   "id": "e4e85798",
   "metadata": {},
   "source": [
    "## Задание 6.1. Выравнивание вложенных списков"
   ]
  },
  {
   "cell_type": "markdown",
   "id": "9c08d2cf",
   "metadata": {},
   "source": [
    "### Задание 6.1.1. Рекурсивная функция `flatten_list_v1`"
   ]
  },
  {
   "cell_type": "code",
   "execution_count": 1,
   "id": "2c70978b",
   "metadata": {},
   "outputs": [],
   "source": [
    "it_list = [[1],[2,[3]],[[[[[4]]]]],5,6,7]"
   ]
  },
  {
   "cell_type": "code",
   "execution_count": 2,
   "id": "b4b94287",
   "metadata": {},
   "outputs": [
    {
     "name": "stdout",
     "output_type": "stream",
     "text": [
      "\u001b[1;31mSignature:\u001b[0m \u001b[0misinstance\u001b[0m\u001b[1;33m(\u001b[0m\u001b[0mobj\u001b[0m\u001b[1;33m,\u001b[0m \u001b[0mclass_or_tuple\u001b[0m\u001b[1;33m,\u001b[0m \u001b[1;33m/\u001b[0m\u001b[1;33m)\u001b[0m\u001b[1;33m\u001b[0m\u001b[1;33m\u001b[0m\u001b[0m\n",
      "\u001b[1;31mDocstring:\u001b[0m\n",
      "Return whether an object is an instance of a class or of a subclass thereof.\n",
      "\n",
      "A tuple, as in ``isinstance(x, (A, B, ...))``, may be given as the target to\n",
      "check against. This is equivalent to ``isinstance(x, A) or isinstance(x, B)\n",
      "or ...`` etc.\n",
      "\u001b[1;31mType:\u001b[0m      builtin_function_or_method"
     ]
    }
   ],
   "source": [
    "?isinstance"
   ]
  },
  {
   "cell_type": "markdown",
   "id": "391fb3be",
   "metadata": {},
   "source": [
    "<span style=\"color:red;\">Напишите комментарии</span> для каждой строки кода функции `flatten_list_v1`."
   ]
  },
  {
   "cell_type": "code",
   "execution_count": 3,
   "id": "37b671df",
   "metadata": {},
   "outputs": [],
   "source": [
    "def flatten_list_v1(nested_obj):\n",
    "    result = []\n",
    "    if isinstance(nested_obj,list): # проверка является ли объект списком\n",
    "        for item in nested_obj: # проходим по элементам списка\n",
    "            result += flatten_list_v1(item) # рекурсия\n",
    "    else:\n",
    "        result += [nested_obj] # добавляем в результат\n",
    "    return result"
   ]
  },
  {
   "cell_type": "code",
   "execution_count": 4,
   "id": "7a3a93e9",
   "metadata": {},
   "outputs": [
    {
     "data": {
      "text/plain": [
       "[1, 2, 3, 4, 5, 6, 7]"
      ]
     },
     "execution_count": 4,
     "metadata": {},
     "output_type": "execute_result"
    }
   ],
   "source": [
    "flatten_list_v1(it_list)"
   ]
  },
  {
   "cell_type": "markdown",
   "id": "cf45c2fa",
   "metadata": {},
   "source": [
    "### Задание 6.1.2. Генераторная функция на основе рекурсии `flatten_list_v2`"
   ]
  },
  {
   "cell_type": "markdown",
   "id": "f8b81ca3",
   "metadata": {},
   "source": [
    "На основе функции `flatten_list_v1` <span style=\"color:red;\">напишите</span> генераторную функцию\n",
    "`flatten_list_v2(nested_obj)`, которая выравнивает вложенный список и\n",
    "возвращает генератнорый объект для элементов вложенного списка."
   ]
  },
  {
   "cell_type": "markdown",
   "id": "c2e7c9a2",
   "metadata": {},
   "source": [
    "<span style=\"color:red;\">Напишите комментарии</span> для каждой строки кода функции `flatten_list_v2`."
   ]
  },
  {
   "cell_type": "markdown",
   "id": "568eb015",
   "metadata": {},
   "source": [
    "<span style=\"color:red;\">Предложите два варианта реализации:</span> только с использованием `yield`\n",
    "(вариант 1) и с использованием `yield from`(вариант 2)."
   ]
  },
  {
   "cell_type": "markdown",
   "id": "edc4751f",
   "metadata": {},
   "source": [
    "Вариант 1:"
   ]
  },
  {
   "cell_type": "code",
   "execution_count": 5,
   "id": "14999604",
   "metadata": {},
   "outputs": [],
   "source": [
    "def flatten_list_v2(nested_obj):\n",
    "    if isinstance(nested_obj, list):  # проверяем, является ли объект списком\n",
    "        for item in nested_obj:  # проходим по элементам списка\n",
    "            for sub_item in flatten_list_v2(item):  # рекурсивно генерируем элементы\n",
    "                yield sub_item  # генерируем элементы\n",
    "    else:\n",
    "        yield nested_obj  # генерируем элемент, если он не список"
   ]
  },
  {
   "cell_type": "code",
   "execution_count": 6,
   "id": "e0564fa2",
   "metadata": {},
   "outputs": [
    {
     "name": "stdout",
     "output_type": "stream",
     "text": [
      "[1, 2, 3, 4, 5, 6, 7]\n"
     ]
    }
   ],
   "source": [
    "print([x for x in flatten_list_v2(it_list)])"
   ]
  },
  {
   "cell_type": "markdown",
   "id": "9a94c27d",
   "metadata": {},
   "source": [
    "Вариант 2:"
   ]
  },
  {
   "cell_type": "code",
   "execution_count": 7,
   "id": "6ff466d3",
   "metadata": {},
   "outputs": [],
   "source": [
    "def flatten_list_v2_v2(nested_obj):\n",
    "    if isinstance(nested_obj, list):  # проверяем, является ли объект списком\n",
    "        for item in nested_obj:  # проходим по элементам списка\n",
    "            yield from flatten_list_v2_v2(item)  # генерируем элементы\n",
    "    else:\n",
    "        yield nested_obj  # генерируем элемент, если он не список"
   ]
  },
  {
   "cell_type": "code",
   "execution_count": 8,
   "id": "ede44025",
   "metadata": {},
   "outputs": [
    {
     "name": "stdout",
     "output_type": "stream",
     "text": [
      "[1, 2, 3, 4, 5, 6, 7]\n"
     ]
    }
   ],
   "source": [
    "print([x for x in flatten_list_v2_v2(it_list)])"
   ]
  },
  {
   "cell_type": "markdown",
   "id": "a5df1355",
   "metadata": {},
   "source": [
    "### Задание 6.1.3. Функция `flatten_list`: создание, документирование, тестирование\n"
   ]
  },
  {
   "cell_type": "markdown",
   "id": "f8541992",
   "metadata": {},
   "source": [
    "<span style=\"color:red;\">Объедините</span> две пользовательские функции `flatten_list_v1` и\n",
    "`flatten_list_v2` в одну пользовательскую функцию `flatten_list(nested_obj,\n",
    "gen)`, которая возвращает либо список из элементов вложенных списков без\n",
    "сохранения структуры, если `gen=False`, либо возвращает генераторный объект,\n",
    "если `gen=True`. Стандартным значением для аргумента `gen` является объект\n",
    "`False`.\n"
   ]
  },
  {
   "cell_type": "markdown",
   "id": "667303e0",
   "metadata": {},
   "source": [
    "<span style=\"color:red;\">Напишите</span> строки документации для функции `flatten_list`."
   ]
  },
  {
   "cell_type": "code",
   "execution_count": 9,
   "id": "1fa1062b",
   "metadata": {},
   "outputs": [],
   "source": [
    "def flatten_list(nested_obj, gen=False):\n",
    "    \"\"\" Возвращает список или генераторный объект элементов вложенных списков. \"\"\"\n",
    "    if gen:\n",
    "        return flatten_list_v2(nested_obj)  # генераторный объект\n",
    "    else:\n",
    "        return flatten_list_v1(nested_obj)  # список"
   ]
  },
  {
   "cell_type": "markdown",
   "id": "7c9adb48",
   "metadata": {},
   "source": [
    "<span style=\"color:red;\">Приведите три примера</span> вызова функции `flatten_list` для различных\n",
    "значений аргументов в предположении, что корректность вводимых данных\n",
    "гарантируется."
   ]
  },
  {
   "cell_type": "markdown",
   "id": "d559faa4",
   "metadata": {},
   "source": [
    "Пример 1: "
   ]
  },
  {
   "cell_type": "code",
   "execution_count": 10,
   "id": "88d2aef3",
   "metadata": {},
   "outputs": [
    {
     "name": "stdout",
     "output_type": "stream",
     "text": [
      "['abc', 'de']\n"
     ]
    }
   ],
   "source": [
    "res_1 = flatten_list([\"abc\",[\"de\"]], gen=False)\n",
    "print(res_1) "
   ]
  },
  {
   "cell_type": "markdown",
   "id": "3bb14fca",
   "metadata": {},
   "source": [
    "Пример 2:"
   ]
  },
  {
   "cell_type": "code",
   "execution_count": 11,
   "id": "a90078d7",
   "metadata": {},
   "outputs": [
    {
     "name": "stdout",
     "output_type": "stream",
     "text": [
      "[1, 2, 3, 4, 5, 6, 7]\n"
     ]
    }
   ],
   "source": [
    "print(flatten_list(it_list, gen=False))"
   ]
  },
  {
   "cell_type": "markdown",
   "id": "c0224ee2",
   "metadata": {},
   "source": [
    "Пример 3:"
   ]
  },
  {
   "cell_type": "code",
   "execution_count": 12,
   "id": "a253e80e",
   "metadata": {},
   "outputs": [
    {
     "name": "stdout",
     "output_type": "stream",
     "text": [
      "[1, 2, 3, 4, 5, 6, 7]\n"
     ]
    }
   ],
   "source": [
    "print([x for x in flatten_list(it_list, gen=True)])"
   ]
  },
  {
   "cell_type": "markdown",
   "id": "49ef93ea",
   "metadata": {},
   "source": [
    "## Задание 6.2. Выравнивание вложенных итерируемых объектов произвольного типа\n"
   ]
  },
  {
   "cell_type": "code",
   "execution_count": 13,
   "id": "7fcd0bc0",
   "metadata": {},
   "outputs": [
    {
     "data": {
      "text/plain": [
       "[[1], [2, [3]], [[[[[4]]]]], 5, 6, 7]"
      ]
     },
     "execution_count": 13,
     "metadata": {},
     "output_type": "execute_result"
    }
   ],
   "source": [
    "it_list"
   ]
  },
  {
   "cell_type": "code",
   "execution_count": 14,
   "id": "7adb0999",
   "metadata": {},
   "outputs": [],
   "source": [
    "it_tuple = (((7),(8)),(9),10)\n"
   ]
  },
  {
   "cell_type": "code",
   "execution_count": 15,
   "id": "63c7067f",
   "metadata": {},
   "outputs": [],
   "source": [
    "it_str = \"abcdefgh\""
   ]
  },
  {
   "cell_type": "code",
   "execution_count": 16,
   "id": "d78879e3",
   "metadata": {},
   "outputs": [],
   "source": [
    "it_dict = {\"key1\": 11, \"key2\": {\"key3\": 12}}"
   ]
  },
  {
   "cell_type": "code",
   "execution_count": 17,
   "id": "01ba917f",
   "metadata": {},
   "outputs": [],
   "source": [
    "it_gen = ([i,i**2,i**3] for i in range(5))"
   ]
  },
  {
   "cell_type": "code",
   "execution_count": 18,
   "id": "7c3d4105",
   "metadata": {},
   "outputs": [],
   "source": [
    "it_file = open(\"flatten_file.txt\", \"w+\")"
   ]
  },
  {
   "cell_type": "code",
   "execution_count": 19,
   "id": "7f5ce117",
   "metadata": {},
   "outputs": [],
   "source": [
    "it = [it_list, it_tuple, it_str, it_dict, it_gen, it_file]"
   ]
  },
  {
   "cell_type": "code",
   "execution_count": 20,
   "id": "653b95e1",
   "metadata": {},
   "outputs": [
    {
     "data": {
      "text/plain": [
       "[True, True, True, True, True, True]"
      ]
     },
     "execution_count": 20,
     "metadata": {},
     "output_type": "execute_result"
    }
   ],
   "source": [
    "['__iter__' in dir(x) for x in it]"
   ]
  },
  {
   "cell_type": "code",
   "execution_count": 21,
   "id": "e8f3659f",
   "metadata": {},
   "outputs": [
    {
     "data": {
      "text/plain": [
       "[True, True, True, True, True, True]"
      ]
     },
     "execution_count": 21,
     "metadata": {},
     "output_type": "execute_result"
    }
   ],
   "source": [
    "[hasattr(x, '__iter__') for x in it]"
   ]
  },
  {
   "cell_type": "code",
   "execution_count": 22,
   "id": "e30e0921",
   "metadata": {},
   "outputs": [
    {
     "name": "stdout",
     "output_type": "stream",
     "text": [
      "\u001b[1;31mSignature:\u001b[0m \u001b[0mhasattr\u001b[0m\u001b[1;33m(\u001b[0m\u001b[0mobj\u001b[0m\u001b[1;33m,\u001b[0m \u001b[0mname\u001b[0m\u001b[1;33m,\u001b[0m \u001b[1;33m/\u001b[0m\u001b[1;33m)\u001b[0m\u001b[1;33m\u001b[0m\u001b[1;33m\u001b[0m\u001b[0m\n",
      "\u001b[1;31mDocstring:\u001b[0m\n",
      "Return whether the object has an attribute with the given name.\n",
      "\n",
      "This is done by calling getattr(obj, name) and catching AttributeError.\n",
      "\u001b[1;31mType:\u001b[0m      builtin_function_or_method"
     ]
    }
   ],
   "source": [
    "?hasattr"
   ]
  },
  {
   "cell_type": "markdown",
   "id": "80e87767",
   "metadata": {},
   "source": [
    "### Задание 6.2.1. Рекурсивная функция `flatten_it_v1`"
   ]
  },
  {
   "cell_type": "markdown",
   "id": "80228d7c",
   "metadata": {},
   "source": [
    "На основе функции `flatten_list_v1(nested_obj)` <span style=\"color:red;\">напишите</span> пользовательскую\n",
    "функцию `flatten_it_v1(nested_obj)` одного аргумента, которая выравнивает\n",
    "вложенную структуру из различных итерируемых объектов и возвращает список,\n",
    "содержащий только элементы без сохранения структуры."
   ]
  },
  {
   "cell_type": "markdown",
   "id": "ab06a767",
   "metadata": {},
   "source": [
    "<span style=\"color:red;\">Напишите комментарии</span> для каждой строки кода функции `flatten_it_v1`."
   ]
  },
  {
   "cell_type": "code",
   "execution_count": 23,
   "id": "c8aafe4d",
   "metadata": {},
   "outputs": [],
   "source": [
    "def flatten_it_v1(nested_obj):\n",
    "    result = [] \n",
    "    if hasattr(nested_obj, '__iter__'):  # проверяем, является ли объект итерируемым\n",
    "        if isinstance(nested_obj, str):  # если строка, не итерируем\n",
    "            result += [nested_obj]  # добавляем строку\n",
    "        elif isinstance(nested_obj, dict):  # если словарь, итерируем по ключам и значениям\n",
    "            for key, value in nested_obj.items():\n",
    "                result += flatten_it_v1(key)  # добавляем ключи\n",
    "                result += flatten_it_v1(value)  # добавляем значения\n",
    "        else:\n",
    "            for item in nested_obj:  # проходим по элементам итерируемого объекта\n",
    "                result += flatten_it_v1(item)  # рекурсивно добавляем элементы\n",
    "    else:\n",
    "        result += [nested_obj]  # добавляем элемент, если он не итерируем\n",
    "    return result  "
   ]
  },
  {
   "cell_type": "code",
   "execution_count": 24,
   "id": "7d6ea604",
   "metadata": {},
   "outputs": [
    {
     "name": "stdout",
     "output_type": "stream",
     "text": [
      "[1, 2, 3, 4, 5, 6, 7]\n"
     ]
    }
   ],
   "source": [
    "print(flatten_it_v1(it_list))"
   ]
  },
  {
   "cell_type": "markdown",
   "id": "a6d4b3e8",
   "metadata": {},
   "source": [
    "### Задание 6.2.2. Генераторная функция на основе рекурсии `flatten_it_v2`\n"
   ]
  },
  {
   "cell_type": "markdown",
   "id": "dd512416",
   "metadata": {},
   "source": [
    "На основе функций `flatten_it_v1` и `flatten_list_v2` <span style=\"color:red;\">напишите</span>\n",
    "пользовательскую функцию `flatten_it_v2(nested_obj)`, которая выравнивает\n",
    "вложенную структуру из различных итерируемых объектов и возвращает\n",
    "генератнорый объект элементов без сохранения структуры.\n",
    "\n",
    "<span style=\"color:red;\">Напишите комментарии</span> для каждой строки кода функции `flatten_it_v2`."
   ]
  },
  {
   "cell_type": "code",
   "execution_count": 25,
   "id": "a25848f4",
   "metadata": {},
   "outputs": [],
   "source": [
    "def flatten_it_v2(nested_obj):\n",
    "    if hasattr(nested_obj, '__iter__'):  # проверяем, является ли объект итерируемым\n",
    "        if isinstance(nested_obj, str):  # если строка, не итерируем\n",
    "            yield nested_obj  # генерируем строку\n",
    "        elif isinstance(nested_obj, dict):  # если словарь, итерируем по ключам и значениям\n",
    "            for key, value in nested_obj.items():\n",
    "                yield from flatten_it_v2(key)  # генерируем ключи\n",
    "                yield from flatten_it_v2(value)  # генерируем значения\n",
    "        else:\n",
    "            for item in nested_obj:  # проходим по элементам итерируемого объекта\n",
    "                yield from flatten_it_v2(item)  # генерируем элементы рекурсивно\n",
    "    else:\n",
    "        yield nested_obj  # генерируем элемент, если он не итерируем"
   ]
  },
  {
   "cell_type": "code",
   "execution_count": 26,
   "id": "25183fc2",
   "metadata": {},
   "outputs": [
    {
     "name": "stdout",
     "output_type": "stream",
     "text": [
      "[1, 2, 3, 4, 5, 6, 7]\n"
     ]
    }
   ],
   "source": [
    "print([x for x in flatten_it_v2(it_list)])"
   ]
  },
  {
   "cell_type": "markdown",
   "id": "7bd04fba",
   "metadata": {},
   "source": [
    "### Задание 6.2.3. Функция `flatten_it`: создание, документирование, тестирование"
   ]
  },
  {
   "cell_type": "markdown",
   "id": "6ba7c5bb",
   "metadata": {},
   "source": [
    "<span style=\"color:red;\">Объедините</span> две пользовательские функции `flatten_it_v1` и `flatten_it_v2` в\n",
    "одну функцию `flatten_it(nested_obj, gen)`, которая возвращает либо список\n",
    "из элементов вложенных объектов без сохранения структуры, если `gen=False`,\n",
    "либо возвращает генераторный объект, если `gen=True`. Стандартным значением\n",
    "для аргумента `gen` является объект `False`.\n",
    "\n",
    "<span style=\"color:red;\">Напишите</span> строки документации для функции `flatten_it`.\n",
    "\n",
    "<span style=\"color:red;\">Приведите три примера</span> вызова функции `flatten_it` для различных значений аргументов в предположении, что корректность вводимых данных гарантируется."
   ]
  },
  {
   "cell_type": "code",
   "execution_count": 27,
   "id": "5170dc05",
   "metadata": {},
   "outputs": [],
   "source": [
    "def flatten_it(nested_obj, gen=False):\n",
    "    \"\"\"\n",
    "    Функция для выравнивания вложенных итерируемых объектов.\n",
    "\n",
    "    Параметры:\n",
    "    nested_obj: любой итерируемый объект (список, кортеж, строка, словарь и т.д.), который может содержать другие вложенные итерируемые объекты.\n",
    "    gen: логическое значение (по умолчанию False). Если True, функция вернет генераторный объект, иначе — список.\n",
    "\n",
    "    Возвращает:\n",
    "    Список или генераторный объект, содержащий элементы вложенной структуры,\n",
    "    выровненные в одномерный вид.\n",
    "\n",
    "    Исключения:\n",
    "    ValueError, если обнаружен циклический объект.\n",
    "    \"\"\"\n",
    "\n",
    "    if gen:\n",
    "        return flatten_it_v2(nested_obj) \n",
    "    else:\n",
    "        return flatten_it_v1(nested_obj) "
   ]
  },
  {
   "cell_type": "code",
   "execution_count": 28,
   "id": "59d0b330",
   "metadata": {},
   "outputs": [
    {
     "name": "stdout",
     "output_type": "stream",
     "text": [
      "[1, 2, 3, 4, 5, 6]\n"
     ]
    }
   ],
   "source": [
    "# Пример 1: Вложенный список\n",
    "res_2 = flatten_it([[1, 2], [3, [4, 5]], 6], gen=False)\n",
    "print(res_2)"
   ]
  },
  {
   "cell_type": "code",
   "execution_count": 29,
   "id": "9261460a",
   "metadata": {},
   "outputs": [
    {
     "name": "stdout",
     "output_type": "stream",
     "text": [
      "['a', 1, 2, 'b', 'c', 3, 'd', 4, 5]\n"
     ]
    }
   ],
   "source": [
    "# Пример 2: Вложенный словарь\n",
    "res_3 = flatten_it({\"a\": [1, 2], \"b\": {\"c\": 3, \"d\": [4, 5]}}, gen=False)\n",
    "print(res_3)"
   ]
  },
  {
   "cell_type": "code",
   "execution_count": 30,
   "id": "9d14db4f",
   "metadata": {},
   "outputs": [
    {
     "name": "stdout",
     "output_type": "stream",
     "text": [
      "[1, 2, 3, 4, 5]\n"
     ]
    }
   ],
   "source": [
    "# Пример 3: Генераторный объект\n",
    "gen_4 = flatten_it([1, [2, [3, 4]], 5], gen=True)\n",
    "res_4 = [x for x in gen_4]\n",
    "print(res_4)"
   ]
  },
  {
   "cell_type": "markdown",
   "id": "c418ef05",
   "metadata": {},
   "source": [
    "## Задание 6.3. Обработка циклических объектов"
   ]
  },
  {
   "cell_type": "code",
   "execution_count": 31,
   "id": "6a429d6a",
   "metadata": {},
   "outputs": [],
   "source": [
    "it_list_cyclic = it_list[:]\n",
    "it_list_cyclic.append(it_list_cyclic)"
   ]
  },
  {
   "cell_type": "code",
   "execution_count": 32,
   "id": "d3a9518b",
   "metadata": {},
   "outputs": [
    {
     "data": {
      "text/plain": [
       "[[1], [2, [3]], [[[[[4]]]]], 5, 6, 7, [...]]"
      ]
     },
     "execution_count": 32,
     "metadata": {},
     "output_type": "execute_result"
    }
   ],
   "source": [
    "it_list_cyclic"
   ]
  },
  {
   "cell_type": "code",
   "execution_count": 41,
   "id": "98bae20f",
   "metadata": {},
   "outputs": [],
   "source": [
    "def flatten_list_v1(nested_obj):\n",
    "    result = []\n",
    "    if isinstance(nested_obj,list):\n",
    "        for item in nested_obj:\n",
    "            if item is nested_obj:\n",
    "                raise ValueError(\"Cyclic list is found\") # генерация исключения\n",
    "            else:\n",
    "                result += flatten_list_v1(item)\n",
    "    else:\n",
    "        result += [nested_obj]\n",
    "    return result"
   ]
  },
  {
   "cell_type": "code",
   "execution_count": null,
   "id": "dc432cf0",
   "metadata": {},
   "outputs": [
    {
     "data": {
      "text/plain": [
       "[1, 2, 3, 4, 5, 6, 7]"
      ]
     },
     "execution_count": 42,
     "metadata": {},
     "output_type": "execute_result"
    }
   ],
   "source": [
    "flatten_list_v1(it_list)"
   ]
  },
  {
   "cell_type": "code",
   "execution_count": null,
   "id": "4bdfa61c",
   "metadata": {},
   "outputs": [
    {
     "ename": "ValueError",
     "evalue": "Cyclic list is found",
     "output_type": "error",
     "traceback": [
      "\u001b[1;31m---------------------------------------------------------------------------\u001b[0m\n",
      "\u001b[1;31mValueError\u001b[0m                                Traceback (most recent call last)\n",
      "Cell \u001b[1;32mIn[44], line 1\u001b[0m\n",
      "\u001b[1;32m----> 1\u001b[0m flatten_list_v1(it_list_cyclic)\n",
      "\n",
      "Cell \u001b[1;32mIn[41], line 6\u001b[0m, in \u001b[0;36mflatten_list_v1\u001b[1;34m(nested_obj)\u001b[0m\n",
      "\u001b[0;32m      4\u001b[0m \u001b[38;5;28;01mfor\u001b[39;00m item \u001b[38;5;129;01min\u001b[39;00m nested_obj:\n",
      "\u001b[0;32m      5\u001b[0m     \u001b[38;5;28;01mif\u001b[39;00m item \u001b[38;5;129;01mis\u001b[39;00m nested_obj:\n",
      "\u001b[1;32m----> 6\u001b[0m         \u001b[38;5;28;01mraise\u001b[39;00m \u001b[38;5;167;01mValueError\u001b[39;00m(\u001b[38;5;124m\"\u001b[39m\u001b[38;5;124mCyclic list is found\u001b[39m\u001b[38;5;124m\"\u001b[39m) \u001b[38;5;66;03m# генерация исключения\u001b[39;00m\n",
      "\u001b[0;32m      7\u001b[0m     \u001b[38;5;28;01melse\u001b[39;00m:\n",
      "\u001b[0;32m      8\u001b[0m         result \u001b[38;5;241m+\u001b[39m\u001b[38;5;241m=\u001b[39m flatten_list_v1(item)\n",
      "\n",
      "\u001b[1;31mValueError\u001b[0m: Cyclic list is found"
     ]
    }
   ],
   "source": [
    "flatten_list_v1(it_list_cyclic)"
   ]
  },
  {
   "cell_type": "code",
   "execution_count": 43,
   "id": "0901acc6",
   "metadata": {},
   "outputs": [
    {
     "name": "stdout",
     "output_type": "stream",
     "text": [
      "Cyclic list is found\n"
     ]
    }
   ],
   "source": [
    "try:\n",
    "    print(flatten_list_v1(it_list_cyclic))\n",
    "except ValueError as e:\n",
    "    print(e)"
   ]
  },
  {
   "cell_type": "markdown",
   "id": "463a8123",
   "metadata": {},
   "source": [
    "### Задание 6.3.1. Доопределение функции `flatten_it`"
   ]
  },
  {
   "cell_type": "markdown",
   "id": "9f45decf",
   "metadata": {},
   "source": [
    "<span style=\"color:red;\">Доопределите</span> пользовательскую функцию `flatten_it` из Задания 6.2, добавив\n",
    "генерацию исключения `ValueError` с помощью оператора `raise` при обработке\n",
    "циклических списков и циклических словарей."
   ]
  },
  {
   "cell_type": "code",
   "execution_count": 45,
   "id": "29752798",
   "metadata": {},
   "outputs": [],
   "source": [
    "def flatten_it(nested_obj, gen=False):\n",
    "    seen = set()  # для отслеживания уже обработанных объектов\n",
    "\n",
    "    def _flatten(nested_obj):\n",
    "        if id(nested_obj) in seen:  # проверяем на цикличность\n",
    "            raise ValueError(\"Cyclic object is found\")\n",
    "        seen.add(id(nested_obj))\n",
    "\n",
    "        if hasattr(nested_obj, '__iter__') and not isinstance(nested_obj, str):\n",
    "            for item in nested_obj:\n",
    "                yield from _flatten(item)\n",
    "        else:\n",
    "            yield nested_obj\n",
    "\n",
    "    if gen:\n",
    "        return _flatten(nested_obj)\n",
    "    else:\n",
    "        return list(_flatten(nested_obj))"
   ]
  },
  {
   "cell_type": "markdown",
   "id": "2c231451",
   "metadata": {},
   "source": [
    "### Задание 6.3.2. Тестирование функции `flatten_it`"
   ]
  },
  {
   "cell_type": "markdown",
   "id": "f666c194",
   "metadata": {},
   "source": [
    "<span style=\"color:red;\">Протестируйте</span> функцию `flatten_it`, перехватывая исключение `ValueError` с\n",
    "помощью операторов `try` / `except` для циклических объектов различных типов.\n"
   ]
  },
  {
   "cell_type": "code",
   "execution_count": 46,
   "id": "66c32646",
   "metadata": {},
   "outputs": [
    {
     "name": "stdout",
     "output_type": "stream",
     "text": [
      "[1, 2, 3, 4]\n"
     ]
    }
   ],
   "source": [
    "# Пример 1: Обычный список\n",
    "try:\n",
    "    result_1 = flatten_it([[1, 2], [3, 4]], gen=False)\n",
    "    print(result_1)\n",
    "except ValueError as e:\n",
    "    print(e)"
   ]
  },
  {
   "cell_type": "code",
   "execution_count": 47,
   "id": "da942ac1",
   "metadata": {},
   "outputs": [
    {
     "name": "stdout",
     "output_type": "stream",
     "text": [
      "Cyclic object is found\n"
     ]
    }
   ],
   "source": [
    "# Пример 2: Циклический список\n",
    "it_list_cyclic = [[1, 2], [3, 4]]\n",
    "it_list_cyclic.append(it_list_cyclic) \n",
    "try:\n",
    "    flatten_it(it_list_cyclic, gen=False)\n",
    "except ValueError as e:\n",
    "    print(e)"
   ]
  },
  {
   "cell_type": "code",
   "execution_count": 52,
   "id": "c1f92c56",
   "metadata": {},
   "outputs": [
    {
     "name": "stdout",
     "output_type": "stream",
     "text": [
      "{'a': 1, 'b': {2: {...}}}\n"
     ]
    }
   ],
   "source": [
    "# Пример 3: Циклический словарь\n",
    "test_cyclic = {'a': 1}\n",
    "test_cyclic['b'] = {2: test_cyclic} \n",
    "try:\n",
    "    flatten_it(test_cyclic, gen=False)\n",
    "except ValueError as e:\n",
    "    print(e)\n",
    "\n",
    "print(test_cyclic)"
   ]
  },
  {
   "cell_type": "code",
   "execution_count": null,
   "id": "41a34ee2",
   "metadata": {},
   "outputs": [],
   "source": []
  }
 ],
 "metadata": {
  "kernelspec": {
   "display_name": "base",
   "language": "python",
   "name": "python3"
  },
  "language_info": {
   "codemirror_mode": {
    "name": "ipython",
    "version": 3
   },
   "file_extension": ".py",
   "mimetype": "text/x-python",
   "name": "python",
   "nbconvert_exporter": "python",
   "pygments_lexer": "ipython3",
   "version": "3.12.7"
  }
 },
 "nbformat": 4,
 "nbformat_minor": 5
}
